{
 "cells": [
  {
   "cell_type": "code",
   "execution_count": 1,
   "metadata": {},
   "outputs": [],
   "source": [
    "import random\n",
    "\n",
    "suits = ('Hearts', 'Diamonds', 'Spades', 'Clubs')\n",
    "ranks = ('Two', 'Three', 'Four', 'Five', 'Six', 'Seven', 'Eight', 'Nine', 'Ten', 'Jack', 'Queen', 'King', 'Ace')\n",
    "values = {'Two':2, 'Three':3, 'Four':4, 'Five':5, 'Six':6, 'Seven':7, 'Eight':8, 'Nine':9, 'Ten':10, 'Jack':10,\n",
    "         'Queen':10, 'King':10, 'Ace':11}\n",
    "\n",
    "playing = True"
   ]
  },
  {
   "cell_type": "markdown",
   "metadata": {},
   "source": [
    "# Class Definitions"
   ]
  },
  {
   "cell_type": "markdown",
   "metadata": {},
   "source": [
    "### Creat a Card Class"
   ]
  },
  {
   "cell_type": "code",
   "execution_count": 5,
   "metadata": {},
   "outputs": [],
   "source": [
    "class Card(object):\n",
    "    \n",
    "    def __init__(self, suit, rank):\n",
    "        self.suit = suit\n",
    "        self.rank = rank\n",
    "    \n",
    "    def __str__(self):\n",
    "        return f\"{self.rank} of {self.suit}\""
   ]
  },
  {
   "cell_type": "markdown",
   "metadata": {},
   "source": [
    "### Create a Deck Class"
   ]
  },
  {
   "cell_type": "code",
   "execution_count": 50,
   "metadata": {},
   "outputs": [],
   "source": [
    "# My code in comments\n",
    "class Deck(object):\n",
    "    \n",
    "    def __init__(self):\n",
    "        \n",
    "        # self.all_cards = []\n",
    "        self.deck = []\n",
    "        \n",
    "        for suit in suits:\n",
    "            for rank in ranks:\n",
    "                self.deck.append(Card(suit, rank))\n",
    "    \n",
    "    def shuffle(self):\n",
    "        random.shuffle(self.deck)\n",
    "        \n",
    "    def deal(self):\n",
    "        return self.deck.pop()\n",
    "        \n",
    "    def __str__(self):\n",
    "        deck_comp = ''\n",
    "        for card in self.deck:\n",
    "            deck_comp += '\\n' + card.__str__()\n",
    "        return \"The deck has: \" + deck_comp"
   ]
  },
  {
   "cell_type": "code",
   "execution_count": 54,
   "metadata": {
    "scrolled": true
   },
   "outputs": [
    {
     "name": "stdout",
     "output_type": "stream",
     "text": [
      "The deck has: \n",
      "Jack of Clubs\n",
      "Five of Spades\n",
      "Five of Clubs\n",
      "Ace of Hearts\n",
      "King of Diamonds\n",
      "Eight of Clubs\n",
      "Six of Diamonds\n",
      "Five of Diamonds\n",
      "Ace of Spades\n",
      "Two of Spades\n",
      "Two of Hearts\n",
      "Jack of Hearts\n",
      "Eight of Hearts\n",
      "Six of Spades\n",
      "King of Spades\n",
      "Three of Clubs\n",
      "Ace of Clubs\n",
      "Six of Hearts\n",
      "Four of Hearts\n",
      "Four of Diamonds\n",
      "Three of Spades\n",
      "Two of Clubs\n",
      "Seven of Hearts\n",
      "Eight of Diamonds\n",
      "Queen of Diamonds\n",
      "Six of Clubs\n",
      "King of Hearts\n",
      "Three of Hearts\n",
      "Queen of Clubs\n",
      "Five of Hearts\n",
      "Eight of Spades\n",
      "King of Clubs\n",
      "Nine of Clubs\n",
      "Seven of Diamonds\n",
      "Seven of Clubs\n",
      "Ten of Clubs\n",
      "Two of Diamonds\n",
      "Ten of Hearts\n",
      "Four of Clubs\n",
      "Three of Diamonds\n",
      "Nine of Hearts\n",
      "Queen of Hearts\n",
      "Nine of Spades\n",
      "Ten of Diamonds\n",
      "Seven of Spades\n",
      "Jack of Spades\n",
      "Ten of Spades\n",
      "Ace of Diamonds\n",
      "Four of Spades\n",
      "Nine of Diamonds\n",
      "Jack of Diamonds\n",
      "Queen of Spades\n"
     ]
    }
   ],
   "source": [
    "test_deck = Deck()\n",
    "test_deck.shuffle()\n",
    "print(test_deck)"
   ]
  },
  {
   "cell_type": "code",
   "execution_count": null,
   "metadata": {},
   "outputs": [],
   "source": []
  }
 ],
 "metadata": {
  "kernelspec": {
   "display_name": "Python 3",
   "language": "python",
   "name": "python3"
  },
  "language_info": {
   "codemirror_mode": {
    "name": "ipython",
    "version": 3
   },
   "file_extension": ".py",
   "mimetype": "text/x-python",
   "name": "python",
   "nbconvert_exporter": "python",
   "pygments_lexer": "ipython3",
   "version": "3.7.6"
  }
 },
 "nbformat": 4,
 "nbformat_minor": 4
}
