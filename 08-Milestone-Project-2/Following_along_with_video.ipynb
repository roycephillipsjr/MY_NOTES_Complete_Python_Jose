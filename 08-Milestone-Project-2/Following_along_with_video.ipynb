{
 "cells": [
  {
   "cell_type": "code",
   "execution_count": 92,
   "metadata": {},
   "outputs": [],
   "source": [
    "import random\n",
    "\n",
    "suits = ('Hearts', 'Diamonds', 'Spades', 'Clubs')\n",
    "ranks = ('Two', 'Three', 'Four', 'Five', 'Six', 'Seven', 'Eight', 'Nine', 'Ten', 'Jack', 'Queen', 'King', 'Ace')\n",
    "values = {'Two':2, 'Three':3, 'Four':4, 'Five':5, 'Six':6, 'Seven':7, 'Eight':8, 'Nine':9, 'Ten':10, 'Jack':10,\n",
    "         'Queen':10, 'King':10, 'Ace':11}\n",
    "\n",
    "playing = True"
   ]
  },
  {
   "cell_type": "markdown",
   "metadata": {},
   "source": [
    "# Class Definitions"
   ]
  },
  {
   "cell_type": "markdown",
   "metadata": {},
   "source": [
    "### Creat a Card Class"
   ]
  },
  {
   "cell_type": "code",
   "execution_count": 93,
   "metadata": {},
   "outputs": [],
   "source": [
    "class Card(object):\n",
    "    \n",
    "    def __init__(self, suit, rank):\n",
    "        self.suit = suit\n",
    "        self.rank = rank\n",
    "    \n",
    "    def __str__(self):\n",
    "        return f\"{self.rank} of {self.suit}\""
   ]
  },
  {
   "cell_type": "markdown",
   "metadata": {},
   "source": [
    "### Create a Deck Class"
   ]
  },
  {
   "cell_type": "code",
   "execution_count": 94,
   "metadata": {},
   "outputs": [],
   "source": [
    "# My code in comments\n",
    "class Deck(object):\n",
    "    \n",
    "    def __init__(self):\n",
    "        \n",
    "        # self.all_cards = []\n",
    "        self.deck = []\n",
    "        \n",
    "        for suit in suits:\n",
    "            for rank in ranks:\n",
    "                self.deck.append(Card(suit, rank))\n",
    "    \n",
    "    def shuffle(self):\n",
    "        random.shuffle(self.deck)\n",
    "        \n",
    "    def deal(self):\n",
    "        return self.deck.pop()\n",
    "        \n",
    "    def __str__(self):\n",
    "        deck_comp = ''\n",
    "        for card in self.deck:\n",
    "            deck_comp += '\\n' + card.__str__()\n",
    "        return \"The deck has: \" + deck_comp"
   ]
  },
  {
   "cell_type": "code",
   "execution_count": 95,
   "metadata": {
    "scrolled": true
   },
   "outputs": [
    {
     "name": "stdout",
     "output_type": "stream",
     "text": [
      "The deck has: \n",
      "King of Spades\n",
      "Jack of Clubs\n",
      "Seven of Diamonds\n",
      "Five of Spades\n",
      "Five of Clubs\n",
      "Jack of Diamonds\n",
      "Six of Clubs\n",
      "Five of Diamonds\n",
      "Nine of Clubs\n",
      "Eight of Clubs\n",
      "Nine of Spades\n",
      "Six of Spades\n",
      "Four of Spades\n",
      "Two of Hearts\n",
      "Ten of Clubs\n",
      "Four of Clubs\n",
      "Ace of Clubs\n",
      "Six of Hearts\n",
      "Three of Spades\n",
      "Two of Diamonds\n",
      "Ace of Hearts\n",
      "Queen of Hearts\n",
      "Jack of Hearts\n",
      "King of Hearts\n",
      "Three of Clubs\n",
      "Queen of Clubs\n",
      "Eight of Spades\n",
      "Two of Spades\n",
      "King of Diamonds\n",
      "Three of Diamonds\n",
      "Ace of Spades\n",
      "Ten of Hearts\n",
      "Ten of Diamonds\n",
      "Nine of Diamonds\n",
      "Seven of Spades\n",
      "Queen of Spades\n",
      "Jack of Spades\n",
      "Nine of Hearts\n",
      "Seven of Clubs\n",
      "Four of Hearts\n",
      "Six of Diamonds\n",
      "Seven of Hearts\n",
      "Four of Diamonds\n",
      "King of Clubs\n",
      "Ten of Spades\n",
      "Three of Hearts\n",
      "Five of Hearts\n",
      "Queen of Diamonds\n",
      "Eight of Diamonds\n",
      "Ace of Diamonds\n",
      "Two of Clubs\n",
      "Eight of Hearts\n"
     ]
    }
   ],
   "source": [
    "test_deck = Deck()\n",
    "test_deck.shuffle()\n",
    "print(test_deck)"
   ]
  },
  {
   "cell_type": "markdown",
   "metadata": {},
   "source": [
    "### Create a Hand Class"
   ]
  },
  {
   "cell_type": "code",
   "execution_count": 96,
   "metadata": {},
   "outputs": [],
   "source": [
    "class Hand(object):\n",
    "    \n",
    "    def __init__(self):\n",
    "        self.cards = [] # Empty list for the cards to be added to hand\n",
    "        self.value = 0 # start with zero value (This it to have total in hand)\n",
    "        self.aces = 0 # add an attribute to keep track of aces\n",
    "        \n",
    "    def add_card(self, card):\n",
    "        # card pass in from Deck.deal() --> single Card(suit, rank)\n",
    "        self.cards.append(card)\n",
    "        self.value += values[card.rank]\n",
    "        \n",
    "        # track aces\n",
    "        if card.rank == 'Ace':\n",
    "            self.aces += 1\n",
    "        \n",
    "    def adjust_for_ace(self):\n",
    "        \n",
    "        # IF TOTAL VALUE > 21 AND I STILL HAVE AN ACE\n",
    "        # THEN CHANGE MY ACE TO BE A 1 INSTEAD OF AN 11\n",
    "        while self.value > 21 and self.aces:\n",
    "            self.value -= 10\n",
    "            self.aces -= 1"
   ]
  },
  {
   "cell_type": "code",
   "execution_count": 97,
   "metadata": {},
   "outputs": [
    {
     "name": "stdout",
     "output_type": "stream",
     "text": [
      "Five of Spades\n",
      "5\n"
     ]
    }
   ],
   "source": [
    "test_deck = Deck()\n",
    "test_deck.shuffle()\n",
    "\n",
    "# Player\n",
    "test_player = Hand()\n",
    "# Deal 1 card from the deck Card(suit, rank)\n",
    "pulled_card = test_deck.deal()\n",
    "print(pulled_card)\n",
    "test_player.add_card(pulled_card)\n",
    "print(test_player.value)"
   ]
  },
  {
   "cell_type": "code",
   "execution_count": 98,
   "metadata": {},
   "outputs": [],
   "source": [
    "test_player.add_card(test_deck.deal())"
   ]
  },
  {
   "cell_type": "code",
   "execution_count": 99,
   "metadata": {},
   "outputs": [
    {
     "data": {
      "text/plain": [
       "15"
      ]
     },
     "execution_count": 99,
     "metadata": {},
     "output_type": "execute_result"
    }
   ],
   "source": [
    "test_player.value"
   ]
  },
  {
   "cell_type": "markdown",
   "metadata": {},
   "source": [
    "### Create a Chip class"
   ]
  },
  {
   "cell_type": "code",
   "execution_count": 100,
   "metadata": {},
   "outputs": [],
   "source": [
    "class Chips(object):\n",
    "    \n",
    "    def __init__(self):\n",
    "        self.total = 100 # This can be set to a default value or supplied by a user input\n",
    "        self.bet = 0\n",
    "        \n",
    "    def win_bet(self):\n",
    "        self.total += self.bet\n",
    "    \n",
    "    def lost_bet(self):\n",
    "        self.total -= self.bet\n",
    "        \n",
    "    def __str__(self):\n",
    "        return f\"You have {self.total} chips\""
   ]
  },
  {
   "cell_type": "markdown",
   "metadata": {},
   "source": [
    "### Write a function for taking bets"
   ]
  },
  {
   "cell_type": "code",
   "execution_count": 101,
   "metadata": {},
   "outputs": [],
   "source": [
    "# This is my code\n",
    "def take_bet_mine(player_chips):\n",
    "    \n",
    "    placing_bet = True\n",
    "    \n",
    "    while placing_bet:\n",
    "        try: \n",
    "            bet_amount = int(input(\"How much do you want to bet?   \"))\n",
    "\n",
    "            if bet_amount > player_chips.total:\n",
    "                print(\"You do not have enough funds. Place a lower bet.\")\n",
    "            else:\n",
    "                player_chips.bet = bet_amount\n",
    "                placing_bet = False\n",
    "        except:\n",
    "            print('That is not a number. Please place your bet.')\n",
    "            "
   ]
  },
  {
   "cell_type": "code",
   "execution_count": 102,
   "metadata": {},
   "outputs": [],
   "source": [
    "# Jose's Code\n",
    "def take_bet(chips):\n",
    "    \n",
    "    while True:\n",
    "        \n",
    "        try: \n",
    "            chips.bet = int(input(\"How many chips woudl you like to bet?  \"))\n",
    "        except:\n",
    "            print(\"Sorry please provide and integer\")\n",
    "        else:\n",
    "            if chips.bet > chips.total:\n",
    "                print(\"Sorry, you do not have enough chips! You have: {}\".format(chips.total))\n",
    "            else:\n",
    "                break"
   ]
  },
  {
   "cell_type": "markdown",
   "metadata": {},
   "source": [
    "### Write a function for taking hits"
   ]
  },
  {
   "cell_type": "code",
   "execution_count": 103,
   "metadata": {},
   "outputs": [],
   "source": [
    "def hit(deck, hand):\n",
    "    \n",
    "    hand.add_card(deck.deal())\n",
    "    hand.adjust_for_ace()"
   ]
  },
  {
   "cell_type": "markdown",
   "metadata": {},
   "source": [
    "### Write function prompting Player to Hit or Stand"
   ]
  },
  {
   "cell_type": "code",
   "execution_count": 104,
   "metadata": {},
   "outputs": [],
   "source": [
    "def hit_or_stand(deck, hand):\n",
    "    \n",
    "    global playing # to control upcoming while loop\n",
    "    \n",
    "    \n",
    "    \n",
    "    while True:\n",
    "        choice = input(\"Do you want to hit or stand? Enter h or s  \")\n",
    "        \n",
    "        if choice[0].lower() == 'h':\n",
    "            hit(deck, hand)\n",
    "        elif choice[0].lower() == 's':\n",
    "            print(\"Player Stands Dealer's Turn\")\n",
    "            playing = False\n",
    "        else:\n",
    "            print(\"Sorry, I did not understand that. Please enter h or s only!\")\n",
    "            continue\n",
    "            \n",
    "        break"
   ]
  },
  {
   "cell_type": "markdown",
   "metadata": {},
   "source": [
    "### Write function to handle end of game scenarios"
   ]
  },
  {
   "cell_type": "code",
   "execution_count": 105,
   "metadata": {},
   "outputs": [],
   "source": [
    "def player_busts(player, dealer, chips):\n",
    "    print(\"BUST PLAYER!\")\n",
    "    chips.lost_bet()\n",
    "\n",
    "def player_wins(player, dealer, chips):\n",
    "    print(\"PLAYER WINS!\")\n",
    "    chips.win_bet()\n",
    "\n",
    "def dealer_busts(player, dealer, chips):\n",
    "    print(\"PLAYER WINS! Dealer Busted\")\n",
    "    chips.win_bet()\n",
    "\n",
    "def dealer_wins(player, dealer, chips):\n",
    "    print(\"Dealer Wins!\")\n",
    "    chips.lost_bet()\n",
    "\n",
    "def push(player, dealer):\n",
    "    print('Dealer and player tie! PUSH')"
   ]
  },
  {
   "cell_type": "markdown",
   "metadata": {},
   "source": [
    "### Write a function to show hand"
   ]
  },
  {
   "cell_type": "code",
   "execution_count": 106,
   "metadata": {},
   "outputs": [],
   "source": [
    "def show_some(player,dealer):\n",
    "    print(\"\\nDealer's Hand:\")\n",
    "    print(\" <card hidden>\")\n",
    "    print('',dealer.cards[1])  \n",
    "    print(\"\\nPlayer's Hand:\", *player.cards, sep='\\n ')\n",
    "    \n",
    "def show_all(player,dealer):\n",
    "    print(\"\\nDealer's Hand:\", *dealer.cards, sep='\\n ')\n",
    "    print(\"Dealer's Hand =\",dealer.value)\n",
    "    print(\"\\nPlayer's Hand:\", *player.cards, sep='\\n ')\n",
    "    print(\"Player's Hand =\",player.value)"
   ]
  },
  {
   "cell_type": "markdown",
   "metadata": {},
   "source": [
    "### Game logic"
   ]
  },
  {
   "cell_type": "code",
   "execution_count": 108,
   "metadata": {},
   "outputs": [
    {
     "name": "stdout",
     "output_type": "stream",
     "text": [
      "WELCOME TO BLACKJACK!!\n",
      "How many chips woudl you like to bet?  50\n",
      "\n",
      "Dealer's Hand:\n",
      " <card hidden>\n",
      " King of Hearts\n",
      "\n",
      "Player's Hand:\n",
      " Eight of Spades\n",
      " Two of Clubs\n",
      "\n",
      "Dealer's Hand:\n",
      " Ace of Hearts\n",
      " King of Hearts\n",
      "Dealer's Hand = 21\n",
      "\n",
      "Player's Hand:\n",
      " Eight of Spades\n",
      " Two of Clubs\n",
      "Player's Hand = 10\n",
      "Dealer Wins!\n",
      "\n",
      " Player total chips are at:  50\n",
      "Would you like to play another hand? y/ny\n",
      "WELCOME TO BLACKJACK!!\n",
      "How many chips woudl you like to bet?  50\n",
      "\n",
      "Dealer's Hand:\n",
      " <card hidden>\n",
      " King of Clubs\n",
      "\n",
      "Player's Hand:\n",
      " Queen of Spades\n",
      " Nine of Clubs\n",
      "Do you want to hit or stand? Enter h or s  s\n",
      "Player Stands Dealer's Turn\n",
      "\n",
      "Dealer's Hand:\n",
      " <card hidden>\n",
      " King of Clubs\n",
      "\n",
      "Player's Hand:\n",
      " Queen of Spades\n",
      " Nine of Clubs\n",
      "\n",
      "Dealer's Hand:\n",
      " Three of Diamonds\n",
      " King of Clubs\n",
      " Four of Spades\n",
      "Dealer's Hand = 17\n",
      "\n",
      "Player's Hand:\n",
      " Queen of Spades\n",
      " Nine of Clubs\n",
      "Player's Hand = 19\n",
      "PLAYER WINS!\n",
      "\n",
      " Player total chips are at:  150\n",
      "Would you like to play another hand? y/ny\n",
      "WELCOME TO BLACKJACK!!\n",
      "How many chips woudl you like to bet?  150\n",
      "Sorry, you do not have enough chips! You have: 100\n",
      "How many chips woudl you like to bet?  75\n",
      "\n",
      "Dealer's Hand:\n",
      " <card hidden>\n",
      " King of Diamonds\n",
      "\n",
      "Player's Hand:\n",
      " Three of Diamonds\n",
      " Seven of Diamonds\n",
      "Do you want to hit or stand? Enter h or s  h\n",
      "\n",
      "Dealer's Hand:\n",
      " <card hidden>\n",
      " King of Diamonds\n",
      "\n",
      "Player's Hand:\n",
      " Three of Diamonds\n",
      " Seven of Diamonds\n",
      " Ten of Hearts\n",
      "Do you want to hit or stand? Enter h or s  s\n",
      "Player Stands Dealer's Turn\n",
      "\n",
      "Dealer's Hand:\n",
      " <card hidden>\n",
      " King of Diamonds\n",
      "\n",
      "Player's Hand:\n",
      " Three of Diamonds\n",
      " Seven of Diamonds\n",
      " Ten of Hearts\n",
      "\n",
      "Dealer's Hand:\n",
      " King of Clubs\n",
      " King of Diamonds\n",
      "Dealer's Hand = 20\n",
      "\n",
      "Player's Hand:\n",
      " Three of Diamonds\n",
      " Seven of Diamonds\n",
      " Ten of Hearts\n",
      "Player's Hand = 20\n",
      "Dealer and player tie! PUSH\n",
      "\n",
      " Player total chips are at:  100\n",
      "Would you like to play another hand? y/nn\n",
      "Thank you for playing\n"
     ]
    }
   ],
   "source": [
    "while True:\n",
    "    \n",
    "    # Print an opening statement\n",
    "    print(\"WELCOME TO BLACKJACK!!\")\n",
    "    \n",
    "    # Create & shuffle the deck, deal two cards to each player\n",
    "    deck = Deck()\n",
    "    deck.shuffle()\n",
    "    \n",
    "        # Player hand\n",
    "    player_hand = Hand()\n",
    "    player_hand.add_card(deck.deal())\n",
    "    player_hand.add_card(deck.deal())\n",
    "    \n",
    "        # Dealer hand\n",
    "    dealer_hand = Hand()\n",
    "    dealer_hand.add_card(deck.deal())\n",
    "    dealer_hand.add_card(deck.deal())\n",
    "    \n",
    "    # Set up the Player's chips\n",
    "    player_chips = Chips()\n",
    "    \n",
    "    # Prompt the Player for their bet\n",
    "    take_bet(player_chips)\n",
    "    \n",
    "    # Show cards (but keep one dealer card hidden)\n",
    "    show_some(player_hand, dealer_hand)\n",
    "    \n",
    "    while playing:   # recall this variable from out hit_or_stand function (also global variable at top of script)\n",
    "        \n",
    "        # Prompt for player to Hit or Stand\n",
    "        hit_or_stand(deck, player_hand)\n",
    "        \n",
    "        # Show cards (but keep dealer card hidden)\n",
    "        show_some(player_hand, dealer_hand)\n",
    "        \n",
    "        # If player's hand exceeds 21, run player_busts() and break out of loop\n",
    "        if player_hand.value > 21:\n",
    "            player_busts(player_hand, dealer_hand, player_chips)\n",
    "            break\n",
    "    \n",
    "    # If Player hasn't busted, play Dealer's hand until Dealer reaches 17\n",
    "    if player_hand.value <= 21:\n",
    "        \n",
    "        while dealer_hand.value < 17:\n",
    "            hit(deck, dealer_hand)\n",
    "            \n",
    "        # Show all cards\n",
    "        show_all(player_hand, dealer_hand)\n",
    "        \n",
    "        # Run different winning scenarios\n",
    "        if dealer_hand.value > 21:\n",
    "            dealer_busts(player_hand, dealer_hand, player_chips)\n",
    "        elif dealer_hand.value > player_hand.value:\n",
    "            dealer_wins(player_hand, dealer_hand, player_chips)\n",
    "        elif dealer_hand.value < player_hand.value:\n",
    "            player_wins(player_hand, dealer_hand, player_chips)\n",
    "        else:\n",
    "            push(player_hand, dealer_hand)\n",
    "            \n",
    "    # Inform Player of their chips total\n",
    "    print('\\n Player total chips are at:  {}'.format(player_chips.total))\n",
    "    \n",
    "    # Ask to play again\n",
    "    \n",
    "    new_game = input(\"Would you like to play another hand? y/n  \")\n",
    "    \n",
    "    if new_game[0].lower() == 'y':\n",
    "        playing = True\n",
    "        continue\n",
    "    else:\n",
    "        print('Thank you for playing')\n",
    "        break"
   ]
  },
  {
   "cell_type": "code",
   "execution_count": null,
   "metadata": {},
   "outputs": [],
   "source": []
  }
 ],
 "metadata": {
  "kernelspec": {
   "display_name": "Python 3",
   "language": "python",
   "name": "python3"
  },
  "language_info": {
   "codemirror_mode": {
    "name": "ipython",
    "version": 3
   },
   "file_extension": ".py",
   "mimetype": "text/x-python",
   "name": "python",
   "nbconvert_exporter": "python",
   "pygments_lexer": "ipython3",
   "version": "3.7.6"
  }
 },
 "nbformat": 4,
 "nbformat_minor": 4
}
