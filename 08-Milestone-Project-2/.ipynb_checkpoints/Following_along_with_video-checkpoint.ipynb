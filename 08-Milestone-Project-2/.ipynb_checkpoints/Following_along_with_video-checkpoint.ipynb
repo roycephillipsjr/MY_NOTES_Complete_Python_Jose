{
 "cells": [
  {
   "cell_type": "code",
   "execution_count": 1,
   "metadata": {},
   "outputs": [],
   "source": [
    "import random\n",
    "\n",
    "suits = ('Hearts', 'Diamonds', 'Spades', 'Clubs')\n",
    "ranks = ('Two', 'Three', 'Four', 'Five', 'Six', 'Seven', 'Eight', 'Nine', 'Ten', 'Jack', 'Queen', 'King', 'Ace')\n",
    "values = {'Two':2, 'Three':3, 'Four':4, 'Five':5, 'Six':6, 'Seven':7, 'Eight':8, 'Nine':9, 'Ten':10, 'Jack':10,\n",
    "         'Queen':10, 'King':10, 'Ace':11}\n",
    "\n",
    "playing = True"
   ]
  },
  {
   "cell_type": "markdown",
   "metadata": {},
   "source": [
    "# Class Definitions"
   ]
  },
  {
   "cell_type": "markdown",
   "metadata": {},
   "source": [
    "### Creat a Card Class"
   ]
  },
  {
   "cell_type": "code",
   "execution_count": 2,
   "metadata": {},
   "outputs": [],
   "source": [
    "class Card(object):\n",
    "    \n",
    "    def __init__(self, suit, rank):\n",
    "        self.suit = suit\n",
    "        self.rank = rank\n",
    "    \n",
    "    def __str__(self):\n",
    "        return f\"{self.rank} of {self.suit}\""
   ]
  },
  {
   "cell_type": "markdown",
   "metadata": {},
   "source": [
    "### Create a Deck Class"
   ]
  },
  {
   "cell_type": "code",
   "execution_count": 3,
   "metadata": {},
   "outputs": [],
   "source": [
    "# My code in comments\n",
    "class Deck(object):\n",
    "    \n",
    "    def __init__(self):\n",
    "        \n",
    "        # self.all_cards = []\n",
    "        self.deck = []\n",
    "        \n",
    "        for suit in suits:\n",
    "            for rank in ranks:\n",
    "                self.deck.append(Card(suit, rank))\n",
    "    \n",
    "    def shuffle(self):\n",
    "        random.shuffle(self.deck)\n",
    "        \n",
    "    def deal(self):\n",
    "        return self.deck.pop()\n",
    "        \n",
    "    def __str__(self):\n",
    "        deck_comp = ''\n",
    "        for card in self.deck:\n",
    "            deck_comp += '\\n' + card.__str__()\n",
    "        return \"The deck has: \" + deck_comp"
   ]
  },
  {
   "cell_type": "code",
   "execution_count": 4,
   "metadata": {
    "scrolled": true
   },
   "outputs": [
    {
     "name": "stdout",
     "output_type": "stream",
     "text": [
      "The deck has: \n",
      "Six of Clubs\n",
      "Ace of Hearts\n",
      "Ten of Spades\n",
      "Ace of Clubs\n",
      "Eight of Hearts\n",
      "Five of Hearts\n",
      "Seven of Spades\n",
      "Two of Clubs\n",
      "Queen of Hearts\n",
      "Eight of Clubs\n",
      "Jack of Clubs\n",
      "Four of Diamonds\n",
      "Eight of Spades\n",
      "Three of Spades\n",
      "Seven of Hearts\n",
      "King of Spades\n",
      "Jack of Hearts\n",
      "Three of Clubs\n",
      "King of Clubs\n",
      "Queen of Spades\n",
      "Three of Hearts\n",
      "Two of Hearts\n",
      "Nine of Spades\n",
      "Six of Hearts\n",
      "Queen of Diamonds\n",
      "Ten of Diamonds\n",
      "Six of Spades\n",
      "Jack of Diamonds\n",
      "King of Diamonds\n",
      "Ten of Hearts\n",
      "Nine of Hearts\n",
      "Four of Spades\n",
      "Five of Diamonds\n",
      "Six of Diamonds\n",
      "Jack of Spades\n",
      "Seven of Clubs\n",
      "Five of Clubs\n",
      "Three of Diamonds\n",
      "Two of Spades\n",
      "King of Hearts\n",
      "Four of Hearts\n",
      "Nine of Clubs\n",
      "Eight of Diamonds\n",
      "Ace of Spades\n",
      "Queen of Clubs\n",
      "Five of Spades\n",
      "Ten of Clubs\n",
      "Seven of Diamonds\n",
      "Nine of Diamonds\n",
      "Two of Diamonds\n",
      "Four of Clubs\n",
      "Ace of Diamonds\n"
     ]
    }
   ],
   "source": [
    "test_deck = Deck()\n",
    "test_deck.shuffle()\n",
    "print(test_deck)"
   ]
  },
  {
   "cell_type": "markdown",
   "metadata": {},
   "source": [
    "### Create a Hand Class"
   ]
  },
  {
   "cell_type": "code",
   "execution_count": 5,
   "metadata": {},
   "outputs": [],
   "source": [
    "class Hand(object):\n",
    "    \n",
    "    def __init__(self):\n",
    "        self.cards = [] # Empty list for the cards to be added to hand\n",
    "        self.value = 0 # start with zero value (This it to have total in hand)\n",
    "        self.aces = 0 # add an attribute to keep track of aces\n",
    "        \n",
    "    def add_card(self, card):\n",
    "        # card pass in from Deck.deal() --> single Card(suit, rank)\n",
    "        self.cards.append(card)\n",
    "        self.value += values[card.rank]\n",
    "        \n",
    "        # track aces\n",
    "        if card.rank == 'Ace':\n",
    "            self.aces += 1\n",
    "        \n",
    "    def adjust_for_ace(self):\n",
    "        \n",
    "        # IF TOTAL VALUE > 21 AND I STILL HAVE AN ACE\n",
    "        # THEN CHANGE MY ACE TO BE A 1 INSTEAD OF AN 11\n",
    "        while self.value > 21 and self.aces:\n",
    "            self.value -= 10\n",
    "            self.aces -= 1"
   ]
  },
  {
   "cell_type": "code",
   "execution_count": 7,
   "metadata": {},
   "outputs": [
    {
     "name": "stdout",
     "output_type": "stream",
     "text": [
      "Four of Diamonds\n",
      "4\n"
     ]
    }
   ],
   "source": [
    "test_deck = Deck()\n",
    "test_deck.shuffle()\n",
    "\n",
    "# Player\n",
    "test_player = Hand()\n",
    "# Deal 1 card from the deck Card(suit, rank)\n",
    "pulled_card = test_deck.deal()\n",
    "print(pulled_card)\n",
    "test_player.add_card(pulled_card)\n",
    "print(test_player.value)"
   ]
  },
  {
   "cell_type": "code",
   "execution_count": 8,
   "metadata": {},
   "outputs": [],
   "source": [
    "test_player.add_card(test_deck.deal())"
   ]
  },
  {
   "cell_type": "code",
   "execution_count": 9,
   "metadata": {},
   "outputs": [
    {
     "data": {
      "text/plain": [
       "14"
      ]
     },
     "execution_count": 9,
     "metadata": {},
     "output_type": "execute_result"
    }
   ],
   "source": [
    "test_player.value"
   ]
  },
  {
   "cell_type": "markdown",
   "metadata": {},
   "source": [
    "### Create a Chip class"
   ]
  },
  {
   "cell_type": "code",
   "execution_count": 59,
   "metadata": {},
   "outputs": [],
   "source": [
    "class Chips:\n",
    "    \n",
    "    def __init__(self):\n",
    "        self.total = 100 # This can be set to a default value or supplied by a user input\n",
    "        self.bet = 0\n",
    "        \n",
    "    def win_bet(self):\n",
    "        self.total += self.bet\n",
    "    \n",
    "    def lost_bet(self):\n",
    "        self.total -= self.bet\n",
    "        \n",
    "    def __str__(self):\n",
    "        return f\"You have {self.total} chips\""
   ]
  },
  {
   "cell_type": "markdown",
   "metadata": {},
   "source": [
    "### Write a function for taking bets"
   ]
  },
  {
   "cell_type": "code",
   "execution_count": 78,
   "metadata": {},
   "outputs": [],
   "source": [
    "# This is my code\n",
    "def take_bet_mine(player_chips):\n",
    "    \n",
    "    placing_bet = True\n",
    "    \n",
    "    while placing_bet:\n",
    "        try: \n",
    "            bet_amount = int(input(\"How much do you want to bet?   \"))\n",
    "\n",
    "            if bet_amount > player_chips.total:\n",
    "                print(\"You do not have enough funds. Place a lower bet.\")\n",
    "            else:\n",
    "                player_chips.bet = bet_amount\n",
    "                placing_bet = False\n",
    "        except:\n",
    "            print('That is not a number. Please place your bet.')\n",
    "            "
   ]
  },
  {
   "cell_type": "code",
   "execution_count": 79,
   "metadata": {},
   "outputs": [],
   "source": [
    "# Jose's Code\n",
    "def take_bet(chips):\n",
    "    \n",
    "    while True:\n",
    "        \n",
    "        try: \n",
    "            chips.bet = int(input(\"How many chips woudl you like to bet?  \"))\n",
    "        except:\n",
    "            print(\"Sorry please provide and integer\")\n",
    "        else:\n",
    "            if chips.bet > chips.total:\n",
    "                print(\"Sorry, you do not have enough chips! You have: {}\".format(chips.total))\n",
    "            else:\n",
    "                break"
   ]
  },
  {
   "cell_type": "markdown",
   "metadata": {},
   "source": [
    "### Write a function for taking hits"
   ]
  },
  {
   "cell_type": "code",
   "execution_count": 85,
   "metadata": {},
   "outputs": [],
   "source": [
    "def hit(deck, hand):\n",
    "    \n",
    "    hand.add_card(deck.deal())\n",
    "    hand.adjust_for_ace()"
   ]
  },
  {
   "cell_type": "markdown",
   "metadata": {},
   "source": [
    "### Write function prompting Player to Hit or Stand"
   ]
  },
  {
   "cell_type": "code",
   "execution_count": 86,
   "metadata": {},
   "outputs": [],
   "source": [
    "def hit_or_stand(deck, hand):\n",
    "    \n",
    "    global playing # to control upcoming while loop\n",
    "    \n",
    "    \n",
    "    \n",
    "    while True:\n",
    "        choice = input(\"Do you want to hit or stand? Enter h or s  \")\n",
    "        \n",
    "        if choice[0].lower() == 'h':\n",
    "            hit(deck, hand)\n",
    "        elif choice[0].lower() == 's':\n",
    "            print(\"Player Stands Dealer's Turn\")\n",
    "            playing = False\n",
    "        else:\n",
    "            print(\"Sorry, I did not understand that. Please enter h or s only!\")\n",
    "            continue\n",
    "            \n",
    "        break"
   ]
  },
  {
   "cell_type": "code",
   "execution_count": null,
   "metadata": {},
   "outputs": [],
   "source": []
  },
  {
   "cell_type": "markdown",
   "metadata": {},
   "source": [
    "### "
   ]
  }
 ],
 "metadata": {
  "kernelspec": {
   "display_name": "Python 3",
   "language": "python",
   "name": "python3"
  },
  "language_info": {
   "codemirror_mode": {
    "name": "ipython",
    "version": 3
   },
   "file_extension": ".py",
   "mimetype": "text/x-python",
   "name": "python",
   "nbconvert_exporter": "python",
   "pygments_lexer": "ipython3",
   "version": "3.7.6"
  }
 },
 "nbformat": 4,
 "nbformat_minor": 4
}
