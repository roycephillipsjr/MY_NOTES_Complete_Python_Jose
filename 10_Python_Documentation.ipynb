{
 "cells": [
  {
   "cell_type": "markdown",
   "metadata": {},
   "source": [
    "# 9.2.1. Scopes and Namespaces Example"
   ]
  },
  {
   "cell_type": "code",
   "execution_count": 43,
   "metadata": {},
   "outputs": [
    {
     "name": "stdout",
     "output_type": "stream",
     "text": [
      "<<<<do_local\n",
      "<<<<do_local (spam) local spam\n",
      "After local assignment:  test spam, (enclosing)\n",
      "After nonlocal assignment:  nonlocal spam\n",
      "After global assignment:  nonlocal spam\n",
      "In global scope: global spam\n"
     ]
    }
   ],
   "source": [
    "def scope_test():\n",
    "    def do_local():\n",
    "        spam = \"local spam\"\n",
    "        print(\"<<<<do_local\")\n",
    "        print(\"<<<<do_local (spam)\", spam)\n",
    "    def do_nonlocal():\n",
    "        nonlocal spam\n",
    "        spam = \"nonlocal spam\"\n",
    "        \n",
    "    def do_global():\n",
    "        global spam\n",
    "        spam = \"global spam\"\n",
    "        \n",
    "    spam = \"test spam, (enclosi ng)\"\n",
    "    do_local()\n",
    "    print(\"After local assignment: \", spam)\n",
    "    do_nonlocal()\n",
    "    print(\"After nonlocal assignment: \", spam)\n",
    "    do_global()\n",
    "    print(\"After global assignment: \", spam)\n",
    "    \n",
    "scope_test()\n",
    "print(\"In global scope:\", spam)"
   ]
  },
  {
   "cell_type": "code",
   "execution_count": 21,
   "metadata": {},
   "outputs": [
    {
     "name": "stdout",
     "output_type": "stream",
     "text": [
      "After local assignment:  test spam\n",
      "After nonlocal assignment:  test spam\n",
      "After global assignment:  test spam\n",
      "In global scope: global spam\n"
     ]
    }
   ],
   "source": [
    "def scope_test():\n",
    "        \n",
    "    spam = \"test spam\"\n",
    "\n",
    "    print(\"After local assignment: \", spam)\n",
    "    print(\"After nonlocal assignment: \", spam)\n",
    "    print(\"After global assignment: \", spam)\n",
    "    \n",
    "scope_test()\n",
    "print(\"In global scope:\", spam)"
   ]
  },
  {
   "cell_type": "code",
   "execution_count": 22,
   "metadata": {},
   "outputs": [
    {
     "name": "stdout",
     "output_type": "stream",
     "text": [
      "After local assignment:  test spam\n",
      "After nonlocal assignment:  test spam\n",
      "After global assignment:  test spam\n",
      "In global scope: global spam\n"
     ]
    }
   ],
   "source": [
    "def scope_test2():\n",
    "        \n",
    "    spam = \"test spam\"\n",
    "\n",
    "    print(\"After local assignment: \", spam)\n",
    "    print(\"After nonlocal assignment: \", spam)\n",
    "    print(\"After global assignment: \", spam)\n",
    "    \n",
    "scope_test2()\n",
    "print(\"In global scope:\", spam)"
   ]
  },
  {
   "cell_type": "code",
   "execution_count": 25,
   "metadata": {},
   "outputs": [],
   "source": [
    "def my_test():\n",
    "    \n",
    "    testing_scope = \"THIS is A TEST!!\"\n",
    "    print(testing_scope)"
   ]
  },
  {
   "cell_type": "code",
   "execution_count": 31,
   "metadata": {},
   "outputs": [
    {
     "name": "stdout",
     "output_type": "stream",
     "text": [
      "THIS is A TEST!!\n"
     ]
    },
    {
     "ename": "NameError",
     "evalue": "name 'testing_scope' is not defined",
     "output_type": "error",
     "traceback": [
      "\u001b[0;31m---------------------------------------------------------------------------\u001b[0m",
      "\u001b[0;31mNameError\u001b[0m                                 Traceback (most recent call last)",
      "\u001b[0;32m<ipython-input-31-5013fc4c20cf>\u001b[0m in \u001b[0;36m<module>\u001b[0;34m\u001b[0m\n\u001b[1;32m      1\u001b[0m \u001b[0mmy_test\u001b[0m\u001b[0;34m(\u001b[0m\u001b[0;34m)\u001b[0m\u001b[0;34m\u001b[0m\u001b[0;34m\u001b[0m\u001b[0m\n\u001b[0;32m----> 2\u001b[0;31m \u001b[0mprint\u001b[0m\u001b[0;34m(\u001b[0m\u001b[0;34m\"In global\"\u001b[0m\u001b[0;34m,\u001b[0m \u001b[0mtesting_scope\u001b[0m\u001b[0;34m)\u001b[0m\u001b[0;34m\u001b[0m\u001b[0;34m\u001b[0m\u001b[0m\n\u001b[0m",
      "\u001b[0;31mNameError\u001b[0m: name 'testing_scope' is not defined"
     ]
    }
   ],
   "source": [
    "my_test()\n",
    "print(\"In global\", testing_scope)"
   ]
  },
  {
   "cell_type": "code",
   "execution_count": 37,
   "metadata": {},
   "outputs": [],
   "source": [
    "def my_test():\n",
    "    \n",
    "    testing_scope = \"THIS is A TEST!!\"\n",
    "    print(testing_scope)    \n",
    "    \n",
    "    def turn_global():\n",
    "        global testing_scope\n",
    "        testing_scope = \"THIS IS NOW A GLOBAL TEST!!!\"\n",
    "\n",
    "    turn_global()    \n",
    "    print('Running turn_global')"
   ]
  },
  {
   "cell_type": "code",
   "execution_count": 38,
   "metadata": {},
   "outputs": [
    {
     "name": "stdout",
     "output_type": "stream",
     "text": [
      "THIS is A TEST!!\n",
      "Running turn_global\n",
      "In global THIS IS NOW A GLOBAL TEST!!!\n"
     ]
    }
   ],
   "source": [
    "my_test()\n",
    "print(\"In global\", testing_scope)"
   ]
  },
  {
   "cell_type": "code",
   "execution_count": 39,
   "metadata": {},
   "outputs": [
    {
     "data": {
      "text/plain": [
       "'THIS IS NOW A GLOBAL TEST!!!'"
      ]
     },
     "execution_count": 39,
     "metadata": {},
     "output_type": "execute_result"
    }
   ],
   "source": [
    "testing_scope"
   ]
  },
  {
   "cell_type": "code",
   "execution_count": 50,
   "metadata": {},
   "outputs": [
    {
     "name": "stdout",
     "output_type": "stream",
     "text": [
      "This is the First Assignment SPAM\n",
      "After local assignment (this is first func):  First Assignment\n",
      "After nonlocal assignment:  nonlocal spam\n",
      "After global assignment:  nonlocal spam\n",
      "In global scope: new global spam\n"
     ]
    }
   ],
   "source": [
    "spam = \"Original global spam\"\n",
    "def scope_test():\n",
    "   \n",
    "    spam = \"First Assignment\"\n",
    "    \n",
    "    print(f\"This is the {spam} SPAM\")\n",
    "    # Local scope references the local names of the (textually) current function\n",
    "    # If not declared nonlocal, those variables are read-only\n",
    "    # an attempt to write such a variable will simply create a new local vairable in the innermost scope,\n",
    "        # leaving the identically named outer variable unchanged\n",
    "    def do_local():\n",
    "        spam = \"local spam\"\n",
    "\n",
    "    # To rebind variables found outside of the innermost scope, the *nonlocal* statement can be used\n",
    "    # The *nonlocal* statement indicates that particular variable live in an ENCLOSING SCOPE and\n",
    "        # should be rebound there\n",
    "    def do_nonlocal():\n",
    "        nonlocal spam\n",
    "        spam = \"nonlocal spam\"\n",
    "        \n",
    "    def do_global():\n",
    "        global spam\n",
    "        spam = \"new global spam\"\n",
    "        \n",
    "#     spam = \"test spam, (enclosing)\"\n",
    "    do_local()\n",
    "    print(\"After local assignment (this is first func): \", spam)\n",
    "    do_nonlocal()\n",
    "    print(\"After nonlocal assignment: \", spam)\n",
    "    do_global()\n",
    "    print(\"After global assignment: \", spam)\n",
    "    \n",
    "scope_test()\n",
    "\n",
    "# Outside of functions the local scope references the same namespace as the **GLOBAL** scope\n",
    "print(\"In global scope:\", spam)"
   ]
  },
  {
   "cell_type": "code",
   "execution_count": 51,
   "metadata": {},
   "outputs": [
    {
     "name": "stdout",
     "output_type": "stream",
     "text": [
      "This is the First Assignment SPAM\n",
      "After local assignment (this is first func):  First Assignment\n",
      "After nonlocal assignment:  nonlocal spam\n",
      "No global re-assignment:  nonlocal spam\n",
      "In global scope: Original global spam\n"
     ]
    }
   ],
   "source": [
    "spam = \"Original global spam\"\n",
    "def scope_test():\n",
    "   \n",
    "    spam = \"First Assignment\"\n",
    "    \n",
    "    print(f\"This is the {spam} SPAM\")\n",
    "    # Local scope references the local names of the (textually) current function\n",
    "    # If not declared nonlocal, those variables are read-only\n",
    "    # an attempt to write such a variable will simply create a new local vairable in the innermost scope,\n",
    "        # leaving the identically named outer variable unchanged\n",
    "    def do_local():\n",
    "        spam = \"local spam\"\n",
    "\n",
    "    # To rebind variables found outside of the innermost scope, the *nonlocal* statement can be used\n",
    "    # The *nonlocal* statement indicates that particular variable live in an ENCLOSING SCOPE and\n",
    "        # should be rebound there\n",
    "    def do_nonlocal():\n",
    "        nonlocal spam\n",
    "        spam = \"nonlocal spam\" # non-local or enclosing\n",
    "        \n",
    "    def do_global():\n",
    "        global spam\n",
    "        spam = \"new global spam\"\n",
    "        \n",
    "#     spam = \"test spam, (enclosing)\"\n",
    "    do_local()\n",
    "    print(\"After local assignment (this is first func): \", spam)\n",
    "    do_nonlocal()\n",
    "    print(\"After nonlocal assignment: \", spam)\n",
    "#     do_global()\n",
    "    print(\"No global re-assignment: \", spam)\n",
    "    \n",
    "scope_test()\n",
    "\n",
    "# Outside of functions the local scope references the same namespace as the **GLOBAL** scope\n",
    "print(\"In global scope:\", spam)"
   ]
  },
  {
   "cell_type": "markdown",
   "metadata": {},
   "source": [
    "So basically different levels on how variables change within a local scope, enclosing, global, and then built-in."
   ]
  },
  {
   "cell_type": "markdown",
   "metadata": {},
   "source": [
    "# 9.3 A First Look at Classes"
   ]
  },
  {
   "cell_type": "markdown",
   "metadata": {},
   "source": [
    "## 9.3.1 Class Definition Syntaxx"
   ]
  },
  {
   "cell_type": "code",
   "execution_count": null,
   "metadata": {},
   "outputs": [],
   "source": [
    "a"
   ]
  }
 ],
 "metadata": {
  "kernelspec": {
   "display_name": "Python 3",
   "language": "python",
   "name": "python3"
  },
  "language_info": {
   "codemirror_mode": {
    "name": "ipython",
    "version": 3
   },
   "file_extension": ".py",
   "mimetype": "text/x-python",
   "name": "python",
   "nbconvert_exporter": "python",
   "pygments_lexer": "ipython3",
   "version": "3.7.6"
  }
 },
 "nbformat": 4,
 "nbformat_minor": 4
}
