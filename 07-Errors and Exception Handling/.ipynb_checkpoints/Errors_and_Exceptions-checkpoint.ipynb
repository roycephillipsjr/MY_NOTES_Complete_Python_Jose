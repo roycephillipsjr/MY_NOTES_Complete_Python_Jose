{
 "cells": [
  {
   "cell_type": "code",
   "execution_count": 3,
   "metadata": {},
   "outputs": [],
   "source": [
    "def add(n1,n2):\n",
    "    print(n1+n2)"
   ]
  },
  {
   "cell_type": "code",
   "execution_count": 4,
   "metadata": {},
   "outputs": [
    {
     "name": "stdout",
     "output_type": "stream",
     "text": [
      "30\n"
     ]
    }
   ],
   "source": [
    "add(10,20)"
   ]
  },
  {
   "cell_type": "code",
   "execution_count": 5,
   "metadata": {},
   "outputs": [],
   "source": [
    "number1 = 10"
   ]
  },
  {
   "cell_type": "code",
   "execution_count": 6,
   "metadata": {},
   "outputs": [
    {
     "name": "stdout",
     "output_type": "stream",
     "text": [
      "Please provide a number: 20\n"
     ]
    }
   ],
   "source": [
    "number2 = input(\"Please provide a number: \")"
   ]
  },
  {
   "cell_type": "code",
   "execution_count": 8,
   "metadata": {},
   "outputs": [
    {
     "ename": "TypeError",
     "evalue": "unsupported operand type(s) for +: 'int' and 'str'",
     "output_type": "error",
     "traceback": [
      "\u001b[0;31m---------------------------------------------------------------------------\u001b[0m",
      "\u001b[0;31mTypeError\u001b[0m                                 Traceback (most recent call last)",
      "\u001b[0;32m<ipython-input-8-57d26d85062e>\u001b[0m in \u001b[0;36m<module>\u001b[0;34m\u001b[0m\n\u001b[0;32m----> 1\u001b[0;31m \u001b[0madd\u001b[0m\u001b[0;34m(\u001b[0m\u001b[0mnumber1\u001b[0m\u001b[0;34m,\u001b[0m \u001b[0mnumber2\u001b[0m\u001b[0;34m)\u001b[0m\u001b[0;34m\u001b[0m\u001b[0;34m\u001b[0m\u001b[0m\n\u001b[0m\u001b[1;32m      2\u001b[0m \u001b[0;31m# The print statement below won't occur\u001b[0m\u001b[0;34m\u001b[0m\u001b[0;34m\u001b[0m\u001b[0;34m\u001b[0m\u001b[0m\n\u001b[1;32m      3\u001b[0m \u001b[0mprint\u001b[0m\u001b[0;34m(\u001b[0m\u001b[0;34m\"Something happened!\"\u001b[0m\u001b[0;34m)\u001b[0m\u001b[0;34m\u001b[0m\u001b[0;34m\u001b[0m\u001b[0m\n",
      "\u001b[0;32m<ipython-input-3-48bddae7e371>\u001b[0m in \u001b[0;36madd\u001b[0;34m(n1, n2)\u001b[0m\n\u001b[1;32m      1\u001b[0m \u001b[0;32mdef\u001b[0m \u001b[0madd\u001b[0m\u001b[0;34m(\u001b[0m\u001b[0mn1\u001b[0m\u001b[0;34m,\u001b[0m\u001b[0mn2\u001b[0m\u001b[0;34m)\u001b[0m\u001b[0;34m:\u001b[0m\u001b[0;34m\u001b[0m\u001b[0;34m\u001b[0m\u001b[0m\n\u001b[0;32m----> 2\u001b[0;31m     \u001b[0mprint\u001b[0m\u001b[0;34m(\u001b[0m\u001b[0mn1\u001b[0m\u001b[0;34m+\u001b[0m\u001b[0mn2\u001b[0m\u001b[0;34m)\u001b[0m\u001b[0;34m\u001b[0m\u001b[0;34m\u001b[0m\u001b[0m\n\u001b[0m",
      "\u001b[0;31mTypeError\u001b[0m: unsupported operand type(s) for +: 'int' and 'str'"
     ]
    }
   ],
   "source": [
    "add(number1, number2)\n",
    "# The print statement below won't occur\n",
    "print(\"Something happened!\")"
   ]
  },
  {
   "cell_type": "code",
   "execution_count": 9,
   "metadata": {},
   "outputs": [],
   "source": [
    "# NO ERROR\n",
    "try:\n",
    "    # WANT TO ATTEMPT THIS CODE\n",
    "    # MAY HAVE AN ERROR\n",
    "    result = 10 + 10\n",
    "except:\n",
    "    print(\"Hey it looks like you aren't adding correctly!\")"
   ]
  },
  {
   "cell_type": "code",
   "execution_count": 10,
   "metadata": {},
   "outputs": [
    {
     "data": {
      "text/plain": [
       "20"
      ]
     },
     "execution_count": 10,
     "metadata": {},
     "output_type": "execute_result"
    }
   ],
   "source": [
    "result"
   ]
  },
  {
   "cell_type": "code",
   "execution_count": 12,
   "metadata": {},
   "outputs": [
    {
     "name": "stdout",
     "output_type": "stream",
     "text": [
      "Hey it looks like you aren't adding correctly!\n"
     ]
    }
   ],
   "source": [
    "# WITH AN ERROR\n",
    "try:\n",
    "    # WANT TO ATTEMPT THIS CODE\n",
    "    # MAY HAVE AN ERROR\n",
    "    result = 10 + '10'\n",
    "except:\n",
    "    print(\"Hey it looks like you aren't adding correctly!\")"
   ]
  },
  {
   "cell_type": "code",
   "execution_count": 13,
   "metadata": {},
   "outputs": [
    {
     "name": "stdout",
     "output_type": "stream",
     "text": [
      "Hey it looks like you aren't adding correctly!\n"
     ]
    }
   ],
   "source": [
    "# BLOCK OF CODE TO EXECUTE WHEN NO EXCEPTION\n",
    "try:\n",
    "    # WANT TO ATTEMPT THIS CODE\n",
    "    # MAY HAVE AN ERROR\n",
    "    result = 10 + '10'\n",
    "except:\n",
    "    print(\"Hey it looks like you aren't adding correctly!\")\n",
    "else:\n",
    "    print(\"Add went well!\")\n",
    "    print(result)"
   ]
  },
  {
   "cell_type": "code",
   "execution_count": 14,
   "metadata": {},
   "outputs": [
    {
     "name": "stdout",
     "output_type": "stream",
     "text": [
      "Add went well!\n",
      "20\n"
     ]
    }
   ],
   "source": [
    "try:\n",
    "    # WANT TO ATTEMPT THIS CODE\n",
    "    # MAY HAVE AN ERROR\n",
    "    result = 10 + 10\n",
    "except:\n",
    "    print(\"Hey it looks like you aren't adding correctly!\")\n",
    "else:\n",
    "    print(\"Add went well!\")\n",
    "    print(result)"
   ]
  },
  {
   "cell_type": "code",
   "execution_count": 15,
   "metadata": {},
   "outputs": [
    {
     "name": "stdout",
     "output_type": "stream",
     "text": [
      "I always run\n"
     ]
    }
   ],
   "source": [
    "# finally keyword a block of code always executing even if there is an error\n",
    "\n",
    "# NO ERRORS\n",
    "try:\n",
    "    f = open('testfile', 'w')\n",
    "    f.write(\"Write a test line.\")\n",
    "except TypeError:\n",
    "    print(\"There was a type error!x\")\n",
    "except OSError:\n",
    "    print('Hey you have an OS Error')\n",
    "finally:\n",
    "    print(\"I always run\")"
   ]
  },
  {
   "cell_type": "code",
   "execution_count": 16,
   "metadata": {},
   "outputs": [
    {
     "name": "stdout",
     "output_type": "stream",
     "text": [
      "Hey you have an OS Error\n",
      "I always run\n"
     ]
    }
   ],
   "source": [
    "# WITH AN ERROR\n",
    "try:\n",
    "    f = open('testfile', 'r')\n",
    "    f.write(\"Write a test line.\")\n",
    "except TypeError:\n",
    "    print(\"There was a type error!\")\n",
    "except OSError:\n",
    "    print('Hey you have an OS Error')\n",
    "finally:\n",
    "    print(\"I always run\")"
   ]
  },
  {
   "cell_type": "code",
   "execution_count": 17,
   "metadata": {},
   "outputs": [
    {
     "name": "stdout",
     "output_type": "stream",
     "text": [
      "All other excpetions\n",
      "I always run\n"
     ]
    }
   ],
   "source": [
    "# WITH AN ERROR \n",
    "# The second except is all other exceptions\n",
    "try:\n",
    "    f = open('testfile', 'r')\n",
    "    f.write(\"Write a test line.\")\n",
    "except TypeError:\n",
    "    print(\"There was a type error!\")\n",
    "except:\n",
    "    print('All other excpetions')\n",
    "finally:\n",
    "    print(\"I always run\")"
   ]
  },
  {
   "cell_type": "code",
   "execution_count": 18,
   "metadata": {},
   "outputs": [],
   "source": [
    "# try except finally in a function\n",
    "\n",
    "def ask_for_int():\n",
    "    \n",
    "    try:\n",
    "        result = int(input(\"Please provide number: \"))\n",
    "    except:\n",
    "        print(\"Whoops! That is not a number\")\n",
    "    finally:\n",
    "        print(\"End of try/except/finally\")"
   ]
  },
  {
   "cell_type": "code",
   "execution_count": 19,
   "metadata": {},
   "outputs": [
    {
     "name": "stdout",
     "output_type": "stream",
     "text": [
      "Please provide number: 20\n",
      "End of try/except/finally\n"
     ]
    }
   ],
   "source": [
    "ask_for_int()"
   ]
  },
  {
   "cell_type": "code",
   "execution_count": 20,
   "metadata": {},
   "outputs": [
    {
     "name": "stdout",
     "output_type": "stream",
     "text": [
      "Please provide number: word\n",
      "Whoops! That is not a number\n",
      "End of try/except/finally\n"
     ]
    }
   ],
   "source": [
    "ask_for_int()"
   ]
  },
  {
   "cell_type": "code",
   "execution_count": 28,
   "metadata": {},
   "outputs": [],
   "source": [
    "# try except finally in a function\n",
    "# add a while loop\n",
    "def ask_for_int():\n",
    "    \n",
    "    while True:\n",
    "        try:\n",
    "            result = int(input(\"Please provide number: \"))\n",
    "#             break\n",
    "        except:\n",
    "            print(\"Whoops! That is not a number\")\n",
    "            continue\n",
    "        else:\n",
    "            print(\"Yes thank you\")\n",
    "            break\n",
    "#         finally:\n",
    "#             print(\"End of try/except/finally\")\n",
    "#             print(\"I will always run at the end!\")"
   ]
  },
  {
   "cell_type": "code",
   "execution_count": 29,
   "metadata": {},
   "outputs": [
    {
     "name": "stdout",
     "output_type": "stream",
     "text": [
      "Please provide number: 30\n",
      "Yes thank you\n"
     ]
    }
   ],
   "source": [
    "ask_for_int()"
   ]
  },
  {
   "cell_type": "code",
   "execution_count": 30,
   "metadata": {},
   "outputs": [
    {
     "name": "stdout",
     "output_type": "stream",
     "text": [
      "Please provide number: d\n",
      "Whoops! That is not a number\n",
      "Please provide number: gf\n",
      "Whoops! That is not a number\n",
      "Please provide number: d\n",
      "Whoops! That is not a number\n",
      "Please provide number: 3\n",
      "Yes thank you\n"
     ]
    }
   ],
   "source": [
    "ask_for_int()"
   ]
  },
  {
   "cell_type": "code",
   "execution_count": null,
   "metadata": {},
   "outputs": [],
   "source": []
  }
 ],
 "metadata": {
  "kernelspec": {
   "display_name": "Python 3",
   "language": "python",
   "name": "python3"
  },
  "language_info": {
   "codemirror_mode": {
    "name": "ipython",
    "version": 3
   },
   "file_extension": ".py",
   "mimetype": "text/x-python",
   "name": "python",
   "nbconvert_exporter": "python",
   "pygments_lexer": "ipython3",
   "version": "3.7.6"
  }
 },
 "nbformat": 4,
 "nbformat_minor": 4
}
