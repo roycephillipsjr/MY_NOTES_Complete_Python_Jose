{
 "cells": [
  {
   "cell_type": "code",
   "execution_count": 14,
   "metadata": {},
   "outputs": [
    {
     "data": {
      "text/plain": [
       "'/Users/roycephillipsjr/Documents/Python/Udemy/Complete_Python_Bootcamp_Jose_Portilla/MY_NOTES_Complete_Python_Jose/12-Advanced Python Modules'"
      ]
     },
     "execution_count": 14,
     "metadata": {},
     "output_type": "execute_result"
    }
   ],
   "source": [
    "pwd"
   ]
  },
  {
   "cell_type": "code",
   "execution_count": 15,
   "metadata": {},
   "outputs": [],
   "source": [
    "f = open('practice.txt', 'w+')\n",
    "f.write('This is a test string')\n",
    "f.close()"
   ]
  },
  {
   "cell_type": "code",
   "execution_count": 16,
   "metadata": {},
   "outputs": [],
   "source": [
    "import os"
   ]
  },
  {
   "cell_type": "code",
   "execution_count": 17,
   "metadata": {},
   "outputs": [
    {
     "data": {
      "text/plain": [
       "'/Users/roycephillipsjr/Documents/Python/Udemy/Complete_Python_Bootcamp_Jose_Portilla/MY_NOTES_Complete_Python_Jose/12-Advanced Python Modules'"
      ]
     },
     "execution_count": 17,
     "metadata": {},
     "output_type": "execute_result"
    }
   ],
   "source": [
    "os.getcwd()"
   ]
  },
  {
   "cell_type": "code",
   "execution_count": 18,
   "metadata": {},
   "outputs": [
    {
     "data": {
      "text/plain": [
       "['Opening-and-Reading-Files-Folders.ipynb',\n",
       " 'practice.txt',\n",
       " '.ipynb_checkpoints',\n",
       " 'Collections_module.ipynb']"
      ]
     },
     "execution_count": 18,
     "metadata": {},
     "output_type": "execute_result"
    }
   ],
   "source": [
    "os.listdir()"
   ]
  },
  {
   "cell_type": "code",
   "execution_count": 19,
   "metadata": {},
   "outputs": [
    {
     "data": {
      "text/plain": [
       "['Udemy',\n",
       " 'NLP_Practice',\n",
       " '.DS_Store',\n",
       " 'Command Line',\n",
       " 'LPTHW',\n",
       " 'vowel_counter.py',\n",
       " 'No_Starch_Press']"
      ]
     },
     "execution_count": 19,
     "metadata": {},
     "output_type": "execute_result"
    }
   ],
   "source": [
    "os.listdir('/Users/roycephillipsjr/Documents/Python/')"
   ]
  },
  {
   "cell_type": "markdown",
   "metadata": {},
   "source": [
    "### Move files"
   ]
  },
  {
   "cell_type": "code",
   "execution_count": 20,
   "metadata": {},
   "outputs": [],
   "source": [
    "import shutil"
   ]
  },
  {
   "cell_type": "code",
   "execution_count": 21,
   "metadata": {},
   "outputs": [
    {
     "data": {
      "text/plain": [
       "'/Users/roycephillipsjr/Documents/Python/Udemy/Complete_Python_Bootcamp_Jose_Portilla/practice.txt'"
      ]
     },
     "execution_count": 21,
     "metadata": {},
     "output_type": "execute_result"
    }
   ],
   "source": [
    "shutil.move('practice.txt', \n",
    "            '/Users/roycephillipsjr/Documents/Python/Udemy/Complete_Python_Bootcamp_Jose_Portilla/')"
   ]
  },
  {
   "cell_type": "code",
   "execution_count": 23,
   "metadata": {},
   "outputs": [
    {
     "data": {
      "text/plain": [
       "['.DS_Store',\n",
       " 'Complete-Python-3-Bootcamp',\n",
       " 'practice.txt',\n",
       " 'practice.py',\n",
       " 'MY_NOTES_Complete_Python_Jose']"
      ]
     },
     "execution_count": 23,
     "metadata": {},
     "output_type": "execute_result"
    }
   ],
   "source": [
    "os.listdir('/Users/roycephillipsjr/Documents/Python/Udemy/Complete_Python_Bootcamp_Jose_Portilla/')"
   ]
  },
  {
   "cell_type": "markdown",
   "metadata": {},
   "source": [
    "### Deleting stuff. Send to trash"
   ]
  },
  {
   "cell_type": "code",
   "execution_count": 24,
   "metadata": {},
   "outputs": [],
   "source": [
    "import send2trash"
   ]
  },
  {
   "cell_type": "code",
   "execution_count": 25,
   "metadata": {},
   "outputs": [
    {
     "data": {
      "text/plain": [
       "['Opening-and-Reading-Files-Folders.ipynb',\n",
       " '.ipynb_checkpoints',\n",
       " 'Collections_module.ipynb']"
      ]
     },
     "execution_count": 25,
     "metadata": {},
     "output_type": "execute_result"
    }
   ],
   "source": [
    "os.listdir()"
   ]
  },
  {
   "cell_type": "code",
   "execution_count": 26,
   "metadata": {},
   "outputs": [
    {
     "data": {
      "text/plain": [
       "'/Users/roycephillipsjr/Documents/Python/Udemy/Complete_Python_Bootcamp_Jose_Portilla/MY_NOTES_Complete_Python_Jose/12-Advanced Python Modules/practice.txt'"
      ]
     },
     "execution_count": 26,
     "metadata": {},
     "output_type": "execute_result"
    }
   ],
   "source": [
    "shutil.move('/Users/roycephillipsjr/Documents/Python/Udemy/Complete_Python_Bootcamp_Jose_Portilla/practice.txt', \n",
    "            os.getcwd())"
   ]
  },
  {
   "cell_type": "code",
   "execution_count": 27,
   "metadata": {},
   "outputs": [
    {
     "data": {
      "text/plain": [
       "['Opening-and-Reading-Files-Folders.ipynb',\n",
       " 'practice.txt',\n",
       " '.ipynb_checkpoints',\n",
       " 'Collections_module.ipynb']"
      ]
     },
     "execution_count": 27,
     "metadata": {},
     "output_type": "execute_result"
    }
   ],
   "source": [
    "os.listdir()"
   ]
  },
  {
   "cell_type": "code",
   "execution_count": 28,
   "metadata": {},
   "outputs": [],
   "source": [
    "send2trash.send2trash('practice.txt')"
   ]
  },
  {
   "cell_type": "code",
   "execution_count": 29,
   "metadata": {},
   "outputs": [
    {
     "data": {
      "text/plain": [
       "['Opening-and-Reading-Files-Folders.ipynb',\n",
       " '.ipynb_checkpoints',\n",
       " 'Collections_module.ipynb']"
      ]
     },
     "execution_count": 29,
     "metadata": {},
     "output_type": "execute_result"
    }
   ],
   "source": [
    "os.listdir()"
   ]
  },
  {
   "cell_type": "markdown",
   "metadata": {},
   "source": [
    "# os.walk"
   ]
  },
  {
   "cell_type": "code",
   "execution_count": 30,
   "metadata": {},
   "outputs": [
    {
     "data": {
      "text/plain": [
       "'/Users/roycephillipsjr/Documents/Python/Udemy/Complete_Python_Bootcamp_Jose_Portilla/MY_NOTES_Complete_Python_Jose/12-Advanced Python Modules'"
      ]
     },
     "execution_count": 30,
     "metadata": {},
     "output_type": "execute_result"
    }
   ],
   "source": [
    "os.getcwd()"
   ]
  },
  {
   "cell_type": "code",
   "execution_count": 31,
   "metadata": {},
   "outputs": [],
   "source": [
    "file_path = '/Users/roycephillipsjr/Documents/Python/Udemy/Complete_Python_Bootcamp_Jose_Portilla/MY_NOTES_Complete_Python_Jose/12-Advanced Python Modules/Example_Top_Level'"
   ]
  },
  {
   "cell_type": "code",
   "execution_count": 33,
   "metadata": {},
   "outputs": [
    {
     "name": "stdout",
     "output_type": "stream",
     "text": [
      "Currently looking at /Users/roycephillipsjr/Documents/Python/Udemy/Complete_Python_Bootcamp_Jose_Portilla/MY_NOTES_Complete_Python_Jose/12-Advanced Python Modules/Example_Top_Level\n",
      "\n",
      "\n",
      "The subfolders are: \n",
      "\t Subfolder: .ipynb_checkpoints\n",
      "\t Subfolder: Mid-Example-Two\n",
      "\t Subfolder: Mid-Example-One\n",
      "\n",
      "\n",
      "the files are: \n",
      "\t Files: Mid-Example.txt\n",
      "\n",
      "\n",
      "Currently looking at /Users/roycephillipsjr/Documents/Python/Udemy/Complete_Python_Bootcamp_Jose_Portilla/MY_NOTES_Complete_Python_Jose/12-Advanced Python Modules/Example_Top_Level/.ipynb_checkpoints\n",
      "\n",
      "\n",
      "The subfolders are: \n",
      "\n",
      "\n",
      "the files are: \n",
      "\n",
      "\n",
      "Currently looking at /Users/roycephillipsjr/Documents/Python/Udemy/Complete_Python_Bootcamp_Jose_Portilla/MY_NOTES_Complete_Python_Jose/12-Advanced Python Modules/Example_Top_Level/Mid-Example-Two\n",
      "\n",
      "\n",
      "The subfolders are: \n",
      "\n",
      "\n",
      "the files are: \n",
      "\n",
      "\n",
      "Currently looking at /Users/roycephillipsjr/Documents/Python/Udemy/Complete_Python_Bootcamp_Jose_Portilla/MY_NOTES_Complete_Python_Jose/12-Advanced Python Modules/Example_Top_Level/Mid-Example-One\n",
      "\n",
      "\n",
      "The subfolders are: \n",
      "\t Subfolder: .ipynb_checkpoints\n",
      "\t Subfolder: Bottom-Level-Two\n",
      "\t Subfolder: Bottom-Level-One\n",
      "\n",
      "\n",
      "the files are: \n",
      "\t Files: Mid-Level-Doc.txt\n",
      "\n",
      "\n",
      "Currently looking at /Users/roycephillipsjr/Documents/Python/Udemy/Complete_Python_Bootcamp_Jose_Portilla/MY_NOTES_Complete_Python_Jose/12-Advanced Python Modules/Example_Top_Level/Mid-Example-One/.ipynb_checkpoints\n",
      "\n",
      "\n",
      "The subfolders are: \n",
      "\n",
      "\n",
      "the files are: \n",
      "\n",
      "\n",
      "Currently looking at /Users/roycephillipsjr/Documents/Python/Udemy/Complete_Python_Bootcamp_Jose_Portilla/MY_NOTES_Complete_Python_Jose/12-Advanced Python Modules/Example_Top_Level/Mid-Example-One/Bottom-Level-Two\n",
      "\n",
      "\n",
      "The subfolders are: \n",
      "\t Subfolder: .ipynb_checkpoints\n",
      "\n",
      "\n",
      "the files are: \n",
      "\t Files: Bottom-Text-Two.txt\n",
      "\n",
      "\n",
      "Currently looking at /Users/roycephillipsjr/Documents/Python/Udemy/Complete_Python_Bootcamp_Jose_Portilla/MY_NOTES_Complete_Python_Jose/12-Advanced Python Modules/Example_Top_Level/Mid-Example-One/Bottom-Level-Two/.ipynb_checkpoints\n",
      "\n",
      "\n",
      "The subfolders are: \n",
      "\n",
      "\n",
      "the files are: \n",
      "\n",
      "\n",
      "Currently looking at /Users/roycephillipsjr/Documents/Python/Udemy/Complete_Python_Bootcamp_Jose_Portilla/MY_NOTES_Complete_Python_Jose/12-Advanced Python Modules/Example_Top_Level/Mid-Example-One/Bottom-Level-One\n",
      "\n",
      "\n",
      "The subfolders are: \n",
      "\t Subfolder: .ipynb_checkpoints\n",
      "\n",
      "\n",
      "the files are: \n",
      "\t Files: One_Text.txt\n",
      "\n",
      "\n",
      "Currently looking at /Users/roycephillipsjr/Documents/Python/Udemy/Complete_Python_Bootcamp_Jose_Portilla/MY_NOTES_Complete_Python_Jose/12-Advanced Python Modules/Example_Top_Level/Mid-Example-One/Bottom-Level-One/.ipynb_checkpoints\n",
      "\n",
      "\n",
      "The subfolders are: \n",
      "\n",
      "\n",
      "the files are: \n",
      "\n",
      "\n"
     ]
    }
   ],
   "source": [
    "for folder, sub_folders, files in os.walk(file_path):\n",
    "    \n",
    "    print(f\"Currently looking at {folder}\")\n",
    "    print(\"\\n\")\n",
    "    print('The subfolders are: ')\n",
    "    for sub_fold in sub_folders:\n",
    "        print(f\"\\t Subfolder: {sub_fold}\")\n",
    "        \n",
    "    print(\"\\n\")\n",
    "    print(\"the files are: \")\n",
    "    for f in files:\n",
    "        print(f\"\\t Files: {f}\")\n",
    "    print(\"\\n\")"
   ]
  }
 ],
 "metadata": {
  "kernelspec": {
   "display_name": "Python 3",
   "language": "python",
   "name": "python3"
  },
  "language_info": {
   "codemirror_mode": {
    "name": "ipython",
    "version": 3
   },
   "file_extension": ".py",
   "mimetype": "text/x-python",
   "name": "python",
   "nbconvert_exporter": "python",
   "pygments_lexer": "ipython3",
   "version": "3.7.6"
  }
 },
 "nbformat": 4,
 "nbformat_minor": 4
}
