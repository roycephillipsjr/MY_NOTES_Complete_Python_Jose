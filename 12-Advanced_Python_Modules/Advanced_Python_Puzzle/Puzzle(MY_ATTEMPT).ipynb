{
 "cells": [
  {
   "cell_type": "code",
   "execution_count": 36,
   "metadata": {},
   "outputs": [],
   "source": [
    "import shutil\n",
    "import os\n",
    "import re"
   ]
  },
  {
   "cell_type": "code",
   "execution_count": 37,
   "metadata": {},
   "outputs": [],
   "source": [
    "shutil.unpack_archive('unzip_me_for_instructions.zip')"
   ]
  },
  {
   "cell_type": "code",
   "execution_count": 38,
   "metadata": {},
   "outputs": [
    {
     "data": {
      "text/plain": [
       "['Instructions.txt', 'Three', 'One', 'Two', 'Five', 'Four']"
      ]
     },
     "execution_count": 38,
     "metadata": {},
     "output_type": "execute_result"
    }
   ],
   "source": [
    "os.listdir('/Users/roycephillipsjr/Documents/Python/Udemy/Complete_Python_Bootcamp_Jose_Portilla/MY_NOTES_Complete_Python_Jose/12-Advanced Python Modules/Advanced_Python_Puzzle/extracted_content')"
   ]
  },
  {
   "cell_type": "code",
   "execution_count": 39,
   "metadata": {},
   "outputs": [],
   "source": [
    "instructions = open('/Users/roycephillipsjr/Documents/Python/Udemy/Complete_Python_Bootcamp_Jose_Portilla/MY_NOTES_Complete_Python_Jose/12-Advanced Python Modules/Advanced_Python_Puzzle/extracted_content/Instructions.txt', 'r')"
   ]
  },
  {
   "cell_type": "code",
   "execution_count": 47,
   "metadata": {},
   "outputs": [
    {
     "data": {
      "text/plain": [
       "['Good work on unzipping the file!\\n',\n",
       " 'You should now see 5 folders, each with a lot of random .txt files.\\n',\n",
       " 'Within one of these text files is a telephone number formated ###-###-#### \\n',\n",
       " 'Use the Python os module and regular expressions to iterate through each file, open it, and search for a telephone number.\\n',\n",
       " 'Good luck!']"
      ]
     },
     "execution_count": 47,
     "metadata": {},
     "output_type": "execute_result"
    }
   ],
   "source": [
    "instructions.readlines()"
   ]
  },
  {
   "cell_type": "code",
   "execution_count": 84,
   "metadata": {},
   "outputs": [
    {
     "data": {
      "text/plain": [
       "''"
      ]
     },
     "execution_count": 84,
     "metadata": {},
     "output_type": "execute_result"
    }
   ],
   "source": [
    "instructions.read()"
   ]
  },
  {
   "cell_type": "code",
   "execution_count": 28,
   "metadata": {},
   "outputs": [],
   "source": [
    "file_path = '/Users/roycephillipsjr/Documents/Python/Udemy/Complete_Python_Bootcamp_Jose_Portilla/MY_NOTES_Complete_Python_Jose/12-Advanced Python Modules/Advanced_Python_Puzzle/extracted_content'"
   ]
  },
  {
   "cell_type": "code",
   "execution_count": 100,
   "metadata": {
    "scrolled": false
   },
   "outputs": [
    {
     "name": "stdout",
     "output_type": "stream",
     "text": [
      "the text file name is == EMTGPSXQEJX.txt\n",
      "the phone number is == 719-266-2837\n"
     ]
    }
   ],
   "source": [
    "# phone = ''\n",
    "for folder, sub_folder, txt_files in os.walk(file_path):\n",
    "    \n",
    "#     print(f\"THIS IS THE FOLDER ==={folder}\")\n",
    "#     print()\n",
    "#     print(\"The subfolders:\")\n",
    "#     for sub_fold in sub_folder:\n",
    "#         print(f\"SUBFOLDER:::::: {sub_fold}\")\n",
    "#     print()\n",
    "    \n",
    "#     print(\"The files are:\")\n",
    "    \n",
    "    for files in txt_files:\n",
    "#         print(f\"FILES >>>>> {files}\")\n",
    "        f = open(f'{folder}/{files}', 'r')\n",
    "#         f.read()\n",
    "#         print(type(re.search(r'\\d{3}-\\d{3}-\\d{4}', f.read())))\n",
    "        if re.search(r'\\d{3}-\\d{3}-\\d{4}', f.read()):\n",
    "            f.seek(0)\n",
    "#             print(f\" FILE PATH ::: {folder}\")\n",
    "#             print()\n",
    "#             print(f\"FILE NAME ====== {files}\")\n",
    "            phone = re.search(r'\\d{3}-\\d{3}-\\d{4}', f.read())\n",
    "            print(f\"the text file name is == {files}\")\n",
    "            print(f\"the phone number is == {phone.group()}\")\n",
    "#         f.close()"
   ]
  },
  {
   "cell_type": "code",
   "execution_count": 94,
   "metadata": {},
   "outputs": [
    {
     "data": {
      "text/plain": [
       "re.Match"
      ]
     },
     "execution_count": 94,
     "metadata": {},
     "output_type": "execute_result"
    }
   ],
   "source": [
    "type(phone)"
   ]
  },
  {
   "cell_type": "code",
   "execution_count": 97,
   "metadata": {},
   "outputs": [
    {
     "data": {
      "text/plain": [
       "'719-266-2837'"
      ]
     },
     "execution_count": 97,
     "metadata": {},
     "output_type": "execute_result"
    }
   ],
   "source": [
    "phone.group()"
   ]
  },
  {
   "cell_type": "code",
   "execution_count": 101,
   "metadata": {},
   "outputs": [
    {
     "name": "stdout",
     "output_type": "stream",
     "text": [
      "the text file name is == EMTGPSXQEJX.txt\n",
      "the phone number is == 719-266-2837\n"
     ]
    }
   ],
   "source": [
    "\n",
    "for folder, sub_folder, txt_files in os.walk(file_path):\n",
    "\n",
    "    \n",
    "    for files in txt_files:\n",
    "\n",
    "        f = open(f'{folder}/{files}', 'r')\n",
    "\n",
    "        if re.search(r'\\d{3}-\\d{3}-\\d{4}', f.read()):\n",
    "            f.seek(0)\n",
    "\n",
    "            phone = re.search(r'\\d{3}-\\d{3}-\\d{4}', f.read())\n",
    "            print(f\"the text file name is == {files}\")\n",
    "            print(f\"the phone number is == {phone.group()}\")\n"
   ]
  },
  {
   "cell_type": "code",
   "execution_count": null,
   "metadata": {},
   "outputs": [],
   "source": []
  }
 ],
 "metadata": {
  "kernelspec": {
   "display_name": "Python 3",
   "language": "python",
   "name": "python3"
  },
  "language_info": {
   "codemirror_mode": {
    "name": "ipython",
    "version": 3
   },
   "file_extension": ".py",
   "mimetype": "text/x-python",
   "name": "python",
   "nbconvert_exporter": "python",
   "pygments_lexer": "ipython3",
   "version": "3.7.6"
  }
 },
 "nbformat": 4,
 "nbformat_minor": 4
}
