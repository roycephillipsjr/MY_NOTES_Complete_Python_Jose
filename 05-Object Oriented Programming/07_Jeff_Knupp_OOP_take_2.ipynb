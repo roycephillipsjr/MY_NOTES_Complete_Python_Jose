{
 "cells": [
  {
   "cell_type": "markdown",
   "metadata": {},
   "source": [
    "My notes from this blog post (website now gone)\n",
    "https://jeffknupp.com/blog/2014/06/18/improve-your-python-python-classes-and-object-oriented-programming/"
   ]
  },
  {
   "cell_type": "markdown",
   "metadata": {},
   "source": [
    "### Example code of creating a Customer class"
   ]
  },
  {
   "cell_type": "markdown",
   "metadata": {},
   "source": [
    "The **class Customer(object)** line does not create a new customer. <br> \n",
    "Just because we've defined a Customer doesn't mean we've *created* one <br>\n",
    "We have merely outlined the *blueprint* to create a **Customer** object"
   ]
  },
  {
   "cell_type": "code",
   "execution_count": 3,
   "metadata": {},
   "outputs": [],
   "source": [
    "class Customer(object):\n",
    "    \"\"\"A customer of ABC Bank with a checking account, Customers have the following properties:\n",
    "    \n",
    "    Attributes:\n",
    "        name: A string representing the customer's name.\n",
    "        balance: A float tracking the current balance of the customer's account.\n",
    "    \"\"\"\n",
    "    \n",
    "    def __init__(self, name, balance=0.0):\n",
    "        \"\"\"Return a Cusomer object whose name is *name* and starting balance is *balance*.\"\"\"\n",
    "        self.name = name\n",
    "        self.balance = balance\n",
    "        \n",
    "    def withdraw(self, amount):\n",
    "        \"\"\"Return the balance remaining after withdrawing *amount* dollars.\"\"\"\n",
    "        if amount > self.balance:\n",
    "            raise RuntimeError('Amount greater than available balance.')\n",
    "        self.balance -= amount\n",
    "        return self.balance\n",
    "    \n",
    "    def deposit(self, amount):\n",
    "        \"\"\"Return the balance remaining after depositing *amount* dollars.\"\"\"\n",
    "        self.balance += amount\n",
    "        return self.balance"
   ]
  },
  {
   "cell_type": "code",
   "execution_count": 4,
   "metadata": {},
   "outputs": [],
   "source": [
    "# The jeff *object* is known as an instance and is the realized version of the Customer class\n",
    "jeff = Customer('Jeff Knupp', 1000.0)"
   ]
  },
  {
   "cell_type": "code",
   "execution_count": 5,
   "metadata": {},
   "outputs": [
    {
     "data": {
      "text/plain": [
       "1000.0"
      ]
     },
     "execution_count": 5,
     "metadata": {},
     "output_type": "execute_result"
    }
   ],
   "source": [
    "jeff.balance"
   ]
  },
  {
   "cell_type": "code",
   "execution_count": 6,
   "metadata": {},
   "outputs": [
    {
     "data": {
      "text/plain": [
       "'Jeff Knupp'"
      ]
     },
     "execution_count": 6,
     "metadata": {},
     "output_type": "execute_result"
    }
   ],
   "source": [
    "jeff.name"
   ]
  },
  {
   "cell_type": "code",
   "execution_count": 7,
   "metadata": {},
   "outputs": [
    {
     "data": {
      "text/plain": [
       "900.0"
      ]
     },
     "execution_count": 7,
     "metadata": {},
     "output_type": "execute_result"
    }
   ],
   "source": [
    "# This is shorthand for the code below\n",
    "jeff.withdraw(100)"
   ]
  },
  {
   "cell_type": "code",
   "execution_count": 8,
   "metadata": {},
   "outputs": [
    {
     "data": {
      "text/plain": [
       "800.0"
      ]
     },
     "execution_count": 8,
     "metadata": {},
     "output_type": "execute_result"
    }
   ],
   "source": [
    "# Instead of calling the whole class you can call the instance jeff\n",
    "# then run the withdraw method on jeff\n",
    "# self in the class Customer is calling on the instance basically saving lines of code (maybe also readability?)\n",
    "Customer.withdraw(jeff, 100)"
   ]
  },
  {
   "cell_type": "markdown",
   "metadata": {},
   "source": [
    "`__init__`\n",
    "\n",
    "we *initialize* objects by saying: <br>\n",
    "**self.name = name**\n",
    "- Rememeber, self **self** is the instance, it is equivalent to saying \n",
    "    - **jeff.name = name**\n",
    "    - **jeff.name = 'Jeff Knupp'     <---- (same as)\n",
    "    \n",
    "After these lines of code the **Customer** object is now \"initialized\""
   ]
  },
  {
   "cell_type": "markdown",
   "metadata": {},
   "source": [
    "### A slight variation on the Customer class"
   ]
  },
  {
   "cell_type": "code",
   "execution_count": 9,
   "metadata": {},
   "outputs": [],
   "source": [
    "class Customer(object):\n",
    "    \"\"\"A customer of ABC Bank with a checking account, Customers have the following properties:\n",
    "    \n",
    "    Attributes:\n",
    "        name: A string representing the customer's name.\n",
    "        balance: A float tracking the current balance of the customer's account.\n",
    "    \"\"\"\n",
    "    \n",
    "    # Removed the balance attribute\n",
    "    def __init__(self, name):\n",
    "        \"\"\"Return a Cusomer object whose name is *name*.\"\"\"\n",
    "        self.name = name\n",
    "    \n",
    "    # The method below is the variation on the original above\n",
    "    def set_balance(self, balance=0.0):\n",
    "        \"\"\"Set the customer's starting balance.\"\"\"\n",
    "        self.balance = balance\n",
    "        \n",
    "    def withdraw(self, amount):\n",
    "        \"\"\"Return the balance remaining after withdrawing *amount* dollars.\"\"\"\n",
    "        if amount > self.balance:\n",
    "            raise RuntimeError('Amount greater than available balance.')\n",
    "        self.balance -= amount\n",
    "        return self.balance\n",
    "    \n",
    "    def deposit(self, amount):\n",
    "        \"\"\"Return the balance remaining after depositing *amount* dollars.\"\"\"\n",
    "        self.balance += amount\n",
    "        return self.balance"
   ]
  },
  {
   "cell_type": "markdown",
   "metadata": {},
   "source": [
    "The above shows a not strong way to build a class because you have to use a method to add the balance. <br>\n",
    "It would be better to have the attribute initialed in the `__init__` becuase the user may not know they have to **set_balance** before using all the other methods like **withdraw**"
   ]
  },
  {
   "cell_type": "markdown",
   "metadata": {},
   "source": [
    "# Static Methods"
   ]
  },
  {
   "cell_type": "markdown",
   "metadata": {},
   "source": [
    "*Class attributes* are attributes that are set at the class-level, as opposed tot he *instance-level*"
   ]
  },
  {
   "cell_type": "code",
   "execution_count": 10,
   "metadata": {},
   "outputs": [
    {
     "name": "stdout",
     "output_type": "stream",
     "text": [
      "4\n",
      "4\n"
     ]
    }
   ],
   "source": [
    "class Car(object):\n",
    "    \n",
    "    # Class attribute\n",
    "    # This is an attribute that hols for ALL instances in all cases\n",
    "    wheels = 4\n",
    "    \n",
    "    def __init__(self, make, model):\n",
    "        self.make = make\n",
    "        self.model = model\n",
    "\n",
    "mustang = Car('Ford', 'Mustang')\n",
    "print(mustang.wheels)\n",
    "print(Car.wheels)"
   ]
  },
  {
   "cell_type": "markdown",
   "metadata": {},
   "source": [
    "There is a class of methods called *static methods* that don't have access to self<br>\n",
    "Just like class attributes, they are methods that work without requiring an instance to be present."
   ]
  },
  {
   "cell_type": "code",
   "execution_count": 25,
   "metadata": {},
   "outputs": [],
   "source": [
    "# Since the method will be the same no matter the car there is no need to add self parameter\n",
    "class Car(object):\n",
    "    ...\n",
    "    def make_car_sound():\n",
    "        print('Vroooooommmmm!!!')"
   ]
  },
  {
   "cell_type": "code",
   "execution_count": 26,
   "metadata": {},
   "outputs": [
    {
     "name": "stdout",
     "output_type": "stream",
     "text": [
      "Vroooooommmmm!!!\n"
     ]
    }
   ],
   "source": [
    "Car.make_car_sound()"
   ]
  },
  {
   "cell_type": "code",
   "execution_count": 27,
   "metadata": {},
   "outputs": [],
   "source": [
    "my_car = Car()"
   ]
  },
  {
   "cell_type": "code",
   "execution_count": 28,
   "metadata": {},
   "outputs": [
    {
     "ename": "TypeError",
     "evalue": "make_car_sound() takes 0 positional arguments but 1 was given",
     "output_type": "error",
     "traceback": [
      "\u001b[0;31m---------------------------------------------------------------------------\u001b[0m",
      "\u001b[0;31mTypeError\u001b[0m                                 Traceback (most recent call last)",
      "\u001b[0;32m<ipython-input-28-46fbc8ef65fc>\u001b[0m in \u001b[0;36m<module>\u001b[0;34m\u001b[0m\n\u001b[0;32m----> 1\u001b[0;31m \u001b[0mmy_car\u001b[0m\u001b[0;34m.\u001b[0m\u001b[0mmake_car_sound\u001b[0m\u001b[0;34m(\u001b[0m\u001b[0;34m)\u001b[0m\u001b[0;34m\u001b[0m\u001b[0;34m\u001b[0m\u001b[0m\n\u001b[0m",
      "\u001b[0;31mTypeError\u001b[0m: make_car_sound() takes 0 positional arguments but 1 was given"
     ]
    }
   ],
   "source": [
    "my_car.make_car_sound()"
   ]
  },
  {
   "cell_type": "code",
   "execution_count": 29,
   "metadata": {},
   "outputs": [],
   "source": [
    "# To make it clear that this method should not recive the instance as the first parameter\n",
    "# the @staticmethod decorator is used\n",
    "class Car(object):\n",
    "    ...\n",
    "    @staticmethod\n",
    "    def make_car_sound():\n",
    "        print('Vroooooommmmm!!!')"
   ]
  },
  {
   "cell_type": "code",
   "execution_count": 30,
   "metadata": {},
   "outputs": [],
   "source": [
    "my_car2 = Car()"
   ]
  },
  {
   "cell_type": "code",
   "execution_count": 31,
   "metadata": {},
   "outputs": [
    {
     "name": "stdout",
     "output_type": "stream",
     "text": [
      "Vroooooommmmm!!!\n"
     ]
    }
   ],
   "source": [
    "my_car2.make_car_sound()"
   ]
  },
  {
   "cell_type": "markdown",
   "metadata": {},
   "source": [
    "### Class Methods"
   ]
  },
  {
   "cell_type": "code",
   "execution_count": 1,
   "metadata": {},
   "outputs": [],
   "source": [
    "class Vehicle(object):\n",
    "    ...\n",
    "    @classmethod\n",
    "    def is_motorcycle(cls):\n",
    "        return cls.wheels == 2"
   ]
  },
  {
   "cell_type": "markdown",
   "metadata": {},
   "source": [
    "# Inheritance"
   ]
  },
  {
   "cell_type": "code",
   "execution_count": 2,
   "metadata": {},
   "outputs": [],
   "source": [
    "class Car(object):\n",
    "    \"\"\"A car for sale by Jeffco Car Dealership\n",
    "    \n",
    "    Attributes:\n",
    "        wheels: An integer representing the number of wheels the car has.\n",
    "        miles: The integral number of miles driven on the car.\n",
    "        make: The make of the car as a string.\n",
    "        model: The model of the car as a string.\n",
    "        year: The integral year the car was built.\n",
    "        sold_on: The date the vehicle was sold.\n",
    "        \"\"\"\n",
    "    \n",
    "    def __init__(self, wheels, miles, make, model, year, sold_on):\n",
    "        \"\"\"Return a new Car object.\"\"\"\n",
    "        self.wheels = wheels\n",
    "        self.miles = miles\n",
    "        self.make = make\n",
    "        self.model = model\n",
    "        self.year = year\n",
    "        self.sold_on = sold_on\n",
    "        \n",
    "    def sale_price(self):\n",
    "        \"\"\"Return the sale price for this car as a float amount.\"\"\"\n",
    "        if self.sold_on is not None:\n",
    "            return 0.0 # Already sold\n",
    "        return 5000.0 * self.wheels\n",
    "    \n",
    "    def purchase_price(self):\n",
    "        \"\"\"Return the price for which we would pay to purchase the car.\"\"\"\n",
    "        if self.sold_on is None:\n",
    "            return 0.0 # Not yet sold\n",
    "        return 8000 - (.10 * self.miles)\n",
    "    \n",
    "    ..."
   ]
  },
  {
   "cell_type": "code",
   "execution_count": 3,
   "metadata": {},
   "outputs": [],
   "source": [
    "class Truck(object):\n",
    "    \"\"\"A truck for sale by Jeffco Car Dealership\n",
    "    \n",
    "    Attributes:\n",
    "        wheels: An integer representing the number of wheels the car has.\n",
    "        miles: The integral number of miles driven on the car.\n",
    "        make: The make of the car as a string.\n",
    "        model: The model of the car as a string.\n",
    "        year: The integral year the car was built.\n",
    "        sold_on: The date the vehicle was sold.\n",
    "        \"\"\"\n",
    "    \n",
    "    def __init__(self, wheels, miles, make, model, year, sold_on):\n",
    "        \"\"\"Return a new Truck object.\"\"\"\n",
    "        self.wheels = wheels\n",
    "        self.miles = miles\n",
    "        self.make = make\n",
    "        self.model = model\n",
    "        self.year = year\n",
    "        self.sold_on = sold_on\n",
    "        \n",
    "    def sale_price(self):\n",
    "        \"\"\"Return the sale price for this truck as a float amount.\"\"\"\n",
    "        if self.sold_on is not None:\n",
    "            return 0.0 # Already sold\n",
    "        return 5000.0 * self.wheels\n",
    "    \n",
    "    def purchase_price(self):\n",
    "        \"\"\"Return the price for which we would pay to purchase the truck.\"\"\"\n",
    "        if self.sold_on is None:\n",
    "            return 0.0 # Not yet sold\n",
    "        return 10_000 - (.10 * self.miles)\n",
    "    \n",
    "    ..."
   ]
  },
  {
   "cell_type": "markdown",
   "metadata": {},
   "source": [
    "# Abstract Classes"
   ]
  },
  {
   "cell_type": "markdown",
   "metadata": {},
   "source": [
    "A **Vehicle** is not a real-world object. Rather, it is a concept that some real-world objects (like cars, truck, abd motorcycles) embody. <br>\n",
    "Each of these objects can be considered a vehicle to remove repeated code."
   ]
  },
  {
   "cell_type": "code",
   "execution_count": 5,
   "metadata": {},
   "outputs": [],
   "source": [
    "class Vehicle(object):\n",
    "    \"\"\"A vehicle for sale by Jeffco Car Dealership.\n",
    "    \n",
    "    Attributes:\n",
    "        wheels: An integer representing the number of wheels the vehicle has.\n",
    "        miles: The integral number of miles driven of the vehicle.\n",
    "        make: The make of the vehicle as a string.\n",
    "        model: The model of the vehicle as a string.\n",
    "        year: The integral year the vehicle was built.\n",
    "        sold_on: The date the vehicle was sold.\n",
    "        \"\"\"\n",
    "    \n",
    "    base_sale_price = 0\n",
    "    \n",
    "    def __init__(self, wheels, miles, make, model, year, sold_on):\n",
    "        \"\"\"Return a new Vehicle object\"\"\"\n",
    "        self.wheels = wheels\n",
    "        self.miles = miles\n",
    "        self.make = make\n",
    "        self.model = model\n",
    "        self.year = year\n",
    "        self.sold_on = sold_on\n",
    "        \n",
    "    \n",
    "    def sale_price(self):\n",
    "        \"\"\"Return the sale price for this vehicle as a float amount.\"\"\"\n",
    "        if self.sold_on is not None:\n",
    "            return 0.0 # Already sold\n",
    "        return 5000.0 * self.wheels\n",
    "    \n",
    "    def purchase_price(self):\n",
    "        \"\"\"Return the price for which we would pay to purchase the vehicle.\"\"\"\n",
    "        if self.sold_on is None:\n",
    "            return 0.0 # Not yet sold\n",
    "        return self.base_sale_price - (.10 * self.miles)"
   ]
  },
  {
   "cell_type": "markdown",
   "metadata": {},
   "source": [
    "Now we can make the **Car** and **Truck** class *inherit* from the **Vehicle** class by replacing **object** in the line **class Car(object)**. <br>\n",
    "The class in parenthesis is the class that is inherited from (object esentially mean \"no inheritance\")"
   ]
  },
  {
   "cell_type": "code",
   "execution_count": 6,
   "metadata": {},
   "outputs": [],
   "source": [
    "class Car(Vehicle):\n",
    "    \n",
    "    def __init__(self, wheels, miles, make, model, year, sold_on):\n",
    "        \"\"\"Return a new Car object\"\"\"\n",
    "        self.wheels = wheels\n",
    "        self.miles = miles\n",
    "        self.make = make\n",
    "        self.model = model\n",
    "        self.year = year\n",
    "        self.sold_on = sold_on\n",
    "        self.base_sale_price = 8000\n",
    "\n",
    "        \n",
    "class Car(Vehicle):\n",
    "    \n",
    "    def __init__(self, wheels, miles, make, model, year, sold_on):\n",
    "        \"\"\"Return a new Truck object\"\"\"\n",
    "        self.wheels = wheels\n",
    "        self.miles = miles\n",
    "        self.make = make\n",
    "        self.model = model\n",
    "        self.year = year\n",
    "        self.sold_on = sold_on\n",
    "        self.base_sale_price = 10_000"
   ]
  },
  {
   "cell_type": "markdown",
   "metadata": {},
   "source": [
    "- *Abstract Base Class* are classes that are only meant to be inherited from; you can't create an *instance* of an ABC. <br>\n",
    "- The **abc** module contains a metaclass called **ABCMeta**.<br>\n",
    "- Setting  a class's metaclass to **ABCMeta** and making one of its methods *virtual* makes it an ABC.<br>\n",
    "- A *virtual method* is one that the ABC says must exist in child classes, but doesn't necessarily actually implement."
   ]
  },
  {
   "cell_type": "code",
   "execution_count": 8,
   "metadata": {},
   "outputs": [],
   "source": [
    "from abc import ABCMeta, abstractmethod\n",
    "\n",
    "class Vehicle(object):\n",
    "    \"\"\"A vehicle for sale by Jeffco Car Dealership.\n",
    "    \n",
    "    \n",
    "    Attributes:\n",
    "        wheels: An integer representing the number of wheels the vehicle has.\n",
    "        miles: The integral number of miles driven on the vehicle.\n",
    "        make: The make of the vehicle as a string.\n",
    "        model: The model of the vehicle as a string.\n",
    "        year: The integral year the vehicle was built.\n",
    "        sold_on: The date the vehicle was sold.\n",
    "        \"\"\"\n",
    "    \n",
    "    __metaclass__ = ABCMeta\n",
    "    \n",
    "    base_sale_price = 0\n",
    "    \n",
    "    def sale_price(self):\n",
    "        \"\"\"Return the sale price for this vehicle as a float amount.\"\"\"\n",
    "        if self.sold_on is not None:\n",
    "            return 0.0 # Already sold\n",
    "        return 5000.0 * self.wheels\n",
    "    \n",
    "    def purchase_price(self):\n",
    "        \"\"\"Return the price for which we would pay to purchase the vehicle.\"\"\"\n",
    "        if self.sold_on is None:\n",
    "            return 0.0 # Not yet sold\n",
    "        return self.base_sale_price - (.10 * self.miles)\n",
    "    \n",
    "    @abstractmethod\n",
    "    def vehicle_type():\n",
    "        \"\"\"Return a string representing the type of vehicle this is.\"\"\"\n",
    "        pass"
   ]
  },
  {
   "cell_type": "markdown",
   "metadata": {},
   "source": [
    "Since **vehicle_type** is an **abstractmethod**, we can't directly create an instance of **Vehicle**"
   ]
  },
  {
   "cell_type": "code",
   "execution_count": 9,
   "metadata": {},
   "outputs": [],
   "source": [
    "# Well... let's check!!\n",
    "test_vehicle = Vehicle()"
   ]
  },
  {
   "cell_type": "code",
   "execution_count": 11,
   "metadata": {},
   "outputs": [
    {
     "data": {
      "text/plain": [
       "0"
      ]
     },
     "execution_count": 11,
     "metadata": {},
     "output_type": "execute_result"
    }
   ],
   "source": [
    "test_vehicle.base_sale_price"
   ]
  },
  {
   "cell_type": "code",
   "execution_count": 13,
   "metadata": {},
   "outputs": [
    {
     "ename": "AttributeError",
     "evalue": "'Vehicle' object has no attribute 'sold_on'",
     "output_type": "error",
     "traceback": [
      "\u001b[0;31m---------------------------------------------------------------------------\u001b[0m",
      "\u001b[0;31mAttributeError\u001b[0m                            Traceback (most recent call last)",
      "\u001b[0;32m<ipython-input-13-e75a7dd828b0>\u001b[0m in \u001b[0;36m<module>\u001b[0;34m\u001b[0m\n\u001b[0;32m----> 1\u001b[0;31m \u001b[0mtest_vehicle\u001b[0m\u001b[0;34m.\u001b[0m\u001b[0mpurchase_price\u001b[0m\u001b[0;34m(\u001b[0m\u001b[0;34m)\u001b[0m\u001b[0;34m\u001b[0m\u001b[0;34m\u001b[0m\u001b[0m\n\u001b[0m",
      "\u001b[0;32m<ipython-input-8-333fe06e5895>\u001b[0m in \u001b[0;36mpurchase_price\u001b[0;34m(self)\u001b[0m\n\u001b[1;32m     26\u001b[0m     \u001b[0;32mdef\u001b[0m \u001b[0mpurchase_price\u001b[0m\u001b[0;34m(\u001b[0m\u001b[0mself\u001b[0m\u001b[0;34m)\u001b[0m\u001b[0;34m:\u001b[0m\u001b[0;34m\u001b[0m\u001b[0;34m\u001b[0m\u001b[0m\n\u001b[1;32m     27\u001b[0m         \u001b[0;34m\"\"\"Return the price for which we would pay to purchase the vehicle.\"\"\"\u001b[0m\u001b[0;34m\u001b[0m\u001b[0;34m\u001b[0m\u001b[0m\n\u001b[0;32m---> 28\u001b[0;31m         \u001b[0;32mif\u001b[0m \u001b[0mself\u001b[0m\u001b[0;34m.\u001b[0m\u001b[0msold_on\u001b[0m \u001b[0;32mis\u001b[0m \u001b[0;32mNone\u001b[0m\u001b[0;34m:\u001b[0m\u001b[0;34m\u001b[0m\u001b[0;34m\u001b[0m\u001b[0m\n\u001b[0m\u001b[1;32m     29\u001b[0m             \u001b[0;32mreturn\u001b[0m \u001b[0;36m0.0\u001b[0m \u001b[0;31m# Not yet sold\u001b[0m\u001b[0;34m\u001b[0m\u001b[0;34m\u001b[0m\u001b[0m\n\u001b[1;32m     30\u001b[0m         \u001b[0;32mreturn\u001b[0m \u001b[0mself\u001b[0m\u001b[0;34m.\u001b[0m\u001b[0mbase_sale_price\u001b[0m \u001b[0;34m-\u001b[0m \u001b[0;34m(\u001b[0m\u001b[0;36m.10\u001b[0m \u001b[0;34m*\u001b[0m \u001b[0mself\u001b[0m\u001b[0;34m.\u001b[0m\u001b[0mmiles\u001b[0m\u001b[0;34m)\u001b[0m\u001b[0;34m\u001b[0m\u001b[0;34m\u001b[0m\u001b[0m\n",
      "\u001b[0;31mAttributeError\u001b[0m: 'Vehicle' object has no attribute 'sold_on'"
     ]
    }
   ],
   "source": [
    "test_vehicle.purchase_price()"
   ]
  },
  {
   "cell_type": "code",
   "execution_count": 15,
   "metadata": {},
   "outputs": [
    {
     "ename": "AttributeError",
     "evalue": "'Vehicle' object has no attribute 'sold_on'",
     "output_type": "error",
     "traceback": [
      "\u001b[0;31m---------------------------------------------------------------------------\u001b[0m",
      "\u001b[0;31mAttributeError\u001b[0m                            Traceback (most recent call last)",
      "\u001b[0;32m<ipython-input-15-ac08453e313a>\u001b[0m in \u001b[0;36m<module>\u001b[0;34m\u001b[0m\n\u001b[0;32m----> 1\u001b[0;31m \u001b[0mtest_vehicle\u001b[0m\u001b[0;34m.\u001b[0m\u001b[0msale_price\u001b[0m\u001b[0;34m(\u001b[0m\u001b[0;34m)\u001b[0m\u001b[0;34m\u001b[0m\u001b[0;34m\u001b[0m\u001b[0m\n\u001b[0m",
      "\u001b[0;32m<ipython-input-8-333fe06e5895>\u001b[0m in \u001b[0;36msale_price\u001b[0;34m(self)\u001b[0m\n\u001b[1;32m     20\u001b[0m     \u001b[0;32mdef\u001b[0m \u001b[0msale_price\u001b[0m\u001b[0;34m(\u001b[0m\u001b[0mself\u001b[0m\u001b[0;34m)\u001b[0m\u001b[0;34m:\u001b[0m\u001b[0;34m\u001b[0m\u001b[0;34m\u001b[0m\u001b[0m\n\u001b[1;32m     21\u001b[0m         \u001b[0;34m\"\"\"Return the sale price for this vehicle as a float amount.\"\"\"\u001b[0m\u001b[0;34m\u001b[0m\u001b[0;34m\u001b[0m\u001b[0m\n\u001b[0;32m---> 22\u001b[0;31m         \u001b[0;32mif\u001b[0m \u001b[0mself\u001b[0m\u001b[0;34m.\u001b[0m\u001b[0msold_on\u001b[0m \u001b[0;32mis\u001b[0m \u001b[0;32mnot\u001b[0m \u001b[0;32mNone\u001b[0m\u001b[0;34m:\u001b[0m\u001b[0;34m\u001b[0m\u001b[0;34m\u001b[0m\u001b[0m\n\u001b[0m\u001b[1;32m     23\u001b[0m             \u001b[0;32mreturn\u001b[0m \u001b[0;36m0.0\u001b[0m \u001b[0;31m# Already sold\u001b[0m\u001b[0;34m\u001b[0m\u001b[0;34m\u001b[0m\u001b[0m\n\u001b[1;32m     24\u001b[0m         \u001b[0;32mreturn\u001b[0m \u001b[0;36m5000.0\u001b[0m \u001b[0;34m*\u001b[0m \u001b[0mself\u001b[0m\u001b[0;34m.\u001b[0m\u001b[0mwheels\u001b[0m\u001b[0;34m\u001b[0m\u001b[0;34m\u001b[0m\u001b[0m\n",
      "\u001b[0;31mAttributeError\u001b[0m: 'Vehicle' object has no attribute 'sold_on'"
     ]
    }
   ],
   "source": [
    "test_vehicle.sale_price()"
   ]
  },
  {
   "cell_type": "code",
   "execution_count": 18,
   "metadata": {},
   "outputs": [
    {
     "ename": "TypeError",
     "evalue": "vehicle_type() takes 0 positional arguments but 1 was given",
     "output_type": "error",
     "traceback": [
      "\u001b[0;31m---------------------------------------------------------------------------\u001b[0m",
      "\u001b[0;31mTypeError\u001b[0m                                 Traceback (most recent call last)",
      "\u001b[0;32m<ipython-input-18-8e1fa51caf79>\u001b[0m in \u001b[0;36m<module>\u001b[0;34m\u001b[0m\n\u001b[0;32m----> 1\u001b[0;31m \u001b[0mtest_vehicle\u001b[0m\u001b[0;34m.\u001b[0m\u001b[0mvehicle_type\u001b[0m\u001b[0;34m(\u001b[0m\u001b[0;34m)\u001b[0m\u001b[0;34m\u001b[0m\u001b[0;34m\u001b[0m\u001b[0m\n\u001b[0m\u001b[1;32m      2\u001b[0m \u001b[0;31m# Seems like you can do stuff, but nothing works\u001b[0m\u001b[0;34m\u001b[0m\u001b[0;34m\u001b[0m\u001b[0;34m\u001b[0m\u001b[0m\n",
      "\u001b[0;31mTypeError\u001b[0m: vehicle_type() takes 0 positional arguments but 1 was given"
     ]
    }
   ],
   "source": [
    "test_vehicle.vehicle_type()\n",
    "# Seems like you can do stuff, but nothing works"
   ]
  },
  {
   "cell_type": "code",
   "execution_count": 19,
   "metadata": {},
   "outputs": [],
   "source": [
    "from abc import ABCMeta, abstractmethod\n",
    "class Vehicle(object):\n",
    "    \"\"\"A vehicle for sale by Jeffco Car Dealership.\n",
    "    \n",
    "    \n",
    "    Attributes:\n",
    "        wheels: An integer representing the number of wheels the vehicle has.\n",
    "        miles: The integral number of miles driven on the vehicle.\n",
    "        make: The make of the vehicle as a string.\n",
    "        model: The model of the vehicle as a string.\n",
    "        year: The integral year the vehicle was built.\n",
    "        sold_on: The date the vehicle was sold.\n",
    "        \"\"\"\n",
    "    \n",
    "    __metaclass__ = ABCMeta\n",
    "    \n",
    "    base_sale_price = 0\n",
    "    wheels = 0\n",
    "    \n",
    "    def __init__(self, miles, make, model, year, sold_on):\n",
    "        self.miles = miles\n",
    "        self.make = make\n",
    "        self.model = model\n",
    "        self.year = year\n",
    "        self.sold_on = sold_on\n",
    "    \n",
    "    def sale_price(self):\n",
    "        \"\"\"Return the sale price for this vehicle as a float amount.\"\"\"\n",
    "        if self.sold_on is not None:\n",
    "            return 0.0 # Already sold\n",
    "        return 5000.0 * self.wheels\n",
    "    \n",
    "    def purchase_price(self):\n",
    "        \"\"\"Return the price for which we would pay to purchase the vehicle.\"\"\"\n",
    "        if self.sold_on is None:\n",
    "            return 0.0 # Not yet sold\n",
    "        return self.base_sale_price - (.10 * self.miles)\n",
    "    \n",
    "    @abstractmethod\n",
    "    def vehicle_type():\n",
    "        \"\"\"Return a string representing the type of vehicle this is.\"\"\"\n",
    "        pass"
   ]
  },
  {
   "cell_type": "code",
   "execution_count": 20,
   "metadata": {},
   "outputs": [],
   "source": [
    "class Car(Vehicle):\n",
    "    \"\"\"A car for sale by Jeffco Car Dealership.\"\"\"\n",
    "    \n",
    "    base_sale_price = 8000\n",
    "    wheels = 4\n",
    "    \n",
    "    def vehicle_type(self):\n",
    "        \"\"\"Return a string representing the type of vehicle this is.\"\"\"\n",
    "        return 'car'\n",
    "    \n",
    "class Truck(Vehicle):\n",
    "    \"\"\"A truck for sale by Jeffco Car Dealership.\"\"\"\n",
    "    \n",
    "    base_sale_price = 10_000\n",
    "    wheels = 4\n",
    "    \n",
    "    def vehicle_type(self):\n",
    "        \"\"\"Return a string representing the type of vehicle this is.\"\"\"\n",
    "        return 'truck'"
   ]
  },
  {
   "cell_type": "code",
   "execution_count": 21,
   "metadata": {},
   "outputs": [],
   "source": [
    "class Motorcycle(Vehicle):\n",
    "    \"\"\"A motorcycle for sale by Jeffco Car Dealership.\"\"\"\n",
    "    \n",
    "    base_sale_price = 4000\n",
    "    wheels = 2\n",
    "    \n",
    "    def vehicle_type(self):\n",
    "        \"\"\"Return a string representing the type of vehicle this is.\"\"\"\n",
    "        return 'motorcycle'"
   ]
  },
  {
   "cell_type": "code",
   "execution_count": 22,
   "metadata": {},
   "outputs": [
    {
     "data": {
      "text/plain": [
       "'A vehicle for sale by Jeffco Car Dealership.\\n    \\n    \\n    Attributes:\\n        wheels: An integer representing the number of wheels the vehicle has.\\n        miles: The integral number of miles driven on the vehicle.\\n        make: The make of the vehicle as a string.\\n        model: The model of the vehicle as a string.\\n        year: The integral year the vehicle was built.\\n        sold_on: The date the vehicle was sold.\\n        '"
      ]
     },
     "execution_count": 22,
     "metadata": {},
     "output_type": "execute_result"
    }
   ],
   "source": [
    "# This is how you can see the documentation string\n",
    "Vehicle.__doc__"
   ]
  },
  {
   "cell_type": "code",
   "execution_count": null,
   "metadata": {},
   "outputs": [],
   "source": []
  }
 ],
 "metadata": {
  "kernelspec": {
   "display_name": "Python 3",
   "language": "python",
   "name": "python3"
  },
  "language_info": {
   "codemirror_mode": {
    "name": "ipython",
    "version": 3
   },
   "file_extension": ".py",
   "mimetype": "text/x-python",
   "name": "python",
   "nbconvert_exporter": "python",
   "pygments_lexer": "ipython3",
   "version": "3.7.6"
  }
 },
 "nbformat": 4,
 "nbformat_minor": 4
}
