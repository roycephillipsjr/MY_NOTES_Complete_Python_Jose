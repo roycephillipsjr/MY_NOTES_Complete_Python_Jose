{
 "cells": [
  {
   "cell_type": "markdown",
   "metadata": {},
   "source": [
    "My notes from https://docs.python.org/3/tutorial/classes.html"
   ]
  },
  {
   "cell_type": "markdown",
   "metadata": {},
   "source": [
    "# 9.2.1. Scopes and Namespaces Example"
   ]
  },
  {
   "cell_type": "code",
   "execution_count": 43,
   "metadata": {},
   "outputs": [
    {
     "name": "stdout",
     "output_type": "stream",
     "text": [
      "<<<<do_local\n",
      "<<<<do_local (spam) local spam\n",
      "After local assignment:  test spam, (enclosing)\n",
      "After nonlocal assignment:  nonlocal spam\n",
      "After global assignment:  nonlocal spam\n",
      "In global scope: global spam\n"
     ]
    }
   ],
   "source": [
    "def scope_test():\n",
    "    def do_local():\n",
    "        spam = \"local spam\"\n",
    "        print(\"<<<<do_local\")\n",
    "        print(\"<<<<do_local (spam)\", spam)\n",
    "    def do_nonlocal():\n",
    "        nonlocal spam\n",
    "        spam = \"nonlocal spam\"\n",
    "        \n",
    "    def do_global():\n",
    "        global spam\n",
    "        spam = \"global spam\"\n",
    "        \n",
    "    spam = \"test spam, (enclosi ng)\"\n",
    "    do_local()\n",
    "    print(\"After local assignment: \", spam)\n",
    "    do_nonlocal()\n",
    "    print(\"After nonlocal assignment: \", spam)\n",
    "    do_global()\n",
    "    print(\"After global assignment: \", spam)\n",
    "    \n",
    "scope_test()\n",
    "print(\"In global scope:\", spam)"
   ]
  },
  {
   "cell_type": "code",
   "execution_count": 21,
   "metadata": {},
   "outputs": [
    {
     "name": "stdout",
     "output_type": "stream",
     "text": [
      "After local assignment:  test spam\n",
      "After nonlocal assignment:  test spam\n",
      "After global assignment:  test spam\n",
      "In global scope: global spam\n"
     ]
    }
   ],
   "source": [
    "def scope_test():\n",
    "        \n",
    "    spam = \"test spam\"\n",
    "\n",
    "    print(\"After local assignment: \", spam)\n",
    "    print(\"After nonlocal assignment: \", spam)\n",
    "    print(\"After global assignment: \", spam)\n",
    "    \n",
    "scope_test()\n",
    "print(\"In global scope:\", spam)"
   ]
  },
  {
   "cell_type": "code",
   "execution_count": 22,
   "metadata": {},
   "outputs": [
    {
     "name": "stdout",
     "output_type": "stream",
     "text": [
      "After local assignment:  test spam\n",
      "After nonlocal assignment:  test spam\n",
      "After global assignment:  test spam\n",
      "In global scope: global spam\n"
     ]
    }
   ],
   "source": [
    "def scope_test2():\n",
    "        \n",
    "    spam = \"test spam\"\n",
    "\n",
    "    print(\"After local assignment: \", spam)\n",
    "    print(\"After nonlocal assignment: \", spam)\n",
    "    print(\"After global assignment: \", spam)\n",
    "    \n",
    "scope_test2()\n",
    "print(\"In global scope:\", spam)"
   ]
  },
  {
   "cell_type": "code",
   "execution_count": 25,
   "metadata": {},
   "outputs": [],
   "source": [
    "def my_test():\n",
    "    \n",
    "    testing_scope = \"THIS is A TEST!!\"\n",
    "    print(testing_scope)"
   ]
  },
  {
   "cell_type": "code",
   "execution_count": 31,
   "metadata": {},
   "outputs": [
    {
     "name": "stdout",
     "output_type": "stream",
     "text": [
      "THIS is A TEST!!\n"
     ]
    },
    {
     "ename": "NameError",
     "evalue": "name 'testing_scope' is not defined",
     "output_type": "error",
     "traceback": [
      "\u001b[0;31m---------------------------------------------------------------------------\u001b[0m",
      "\u001b[0;31mNameError\u001b[0m                                 Traceback (most recent call last)",
      "\u001b[0;32m<ipython-input-31-5013fc4c20cf>\u001b[0m in \u001b[0;36m<module>\u001b[0;34m\u001b[0m\n\u001b[1;32m      1\u001b[0m \u001b[0mmy_test\u001b[0m\u001b[0;34m(\u001b[0m\u001b[0;34m)\u001b[0m\u001b[0;34m\u001b[0m\u001b[0;34m\u001b[0m\u001b[0m\n\u001b[0;32m----> 2\u001b[0;31m \u001b[0mprint\u001b[0m\u001b[0;34m(\u001b[0m\u001b[0;34m\"In global\"\u001b[0m\u001b[0;34m,\u001b[0m \u001b[0mtesting_scope\u001b[0m\u001b[0;34m)\u001b[0m\u001b[0;34m\u001b[0m\u001b[0;34m\u001b[0m\u001b[0m\n\u001b[0m",
      "\u001b[0;31mNameError\u001b[0m: name 'testing_scope' is not defined"
     ]
    }
   ],
   "source": [
    "my_test()\n",
    "print(\"In global\", testing_scope)"
   ]
  },
  {
   "cell_type": "code",
   "execution_count": 37,
   "metadata": {},
   "outputs": [],
   "source": [
    "def my_test():\n",
    "    \n",
    "    testing_scope = \"THIS is A TEST!!\"\n",
    "    print(testing_scope)    \n",
    "    \n",
    "    def turn_global():\n",
    "        global testing_scope\n",
    "        testing_scope = \"THIS IS NOW A GLOBAL TEST!!!\"\n",
    "\n",
    "    turn_global()    \n",
    "    print('Running turn_global')"
   ]
  },
  {
   "cell_type": "code",
   "execution_count": 38,
   "metadata": {},
   "outputs": [
    {
     "name": "stdout",
     "output_type": "stream",
     "text": [
      "THIS is A TEST!!\n",
      "Running turn_global\n",
      "In global THIS IS NOW A GLOBAL TEST!!!\n"
     ]
    }
   ],
   "source": [
    "my_test()\n",
    "print(\"In global\", testing_scope)"
   ]
  },
  {
   "cell_type": "code",
   "execution_count": 39,
   "metadata": {},
   "outputs": [
    {
     "data": {
      "text/plain": [
       "'THIS IS NOW A GLOBAL TEST!!!'"
      ]
     },
     "execution_count": 39,
     "metadata": {},
     "output_type": "execute_result"
    }
   ],
   "source": [
    "testing_scope"
   ]
  },
  {
   "cell_type": "code",
   "execution_count": 50,
   "metadata": {},
   "outputs": [
    {
     "name": "stdout",
     "output_type": "stream",
     "text": [
      "This is the First Assignment SPAM\n",
      "After local assignment (this is first func):  First Assignment\n",
      "After nonlocal assignment:  nonlocal spam\n",
      "After global assignment:  nonlocal spam\n",
      "In global scope: new global spam\n"
     ]
    }
   ],
   "source": [
    "spam = \"Original global spam\"\n",
    "def scope_test():\n",
    "   \n",
    "    spam = \"First Assignment\"\n",
    "    \n",
    "    print(f\"This is the {spam} SPAM\")\n",
    "    # Local scope references the local names of the (textually) current function\n",
    "    # If not declared nonlocal, those variables are read-only\n",
    "    # an attempt to write such a variable will simply create a new local vairable in the innermost scope,\n",
    "        # leaving the identically named outer variable unchanged\n",
    "    def do_local():\n",
    "        spam = \"local spam\"\n",
    "\n",
    "    # To rebind variables found outside of the innermost scope, the *nonlocal* statement can be used\n",
    "    # The *nonlocal* statement indicates that particular variable live in an ENCLOSING SCOPE and\n",
    "        # should be rebound there\n",
    "    def do_nonlocal():\n",
    "        nonlocal spam\n",
    "        spam = \"nonlocal spam\"\n",
    "        \n",
    "    def do_global():\n",
    "        global spam\n",
    "        spam = \"new global spam\"\n",
    "        \n",
    "#     spam = \"test spam, (enclosing)\"\n",
    "    do_local()\n",
    "    print(\"After local assignment (this is first func): \", spam)\n",
    "    do_nonlocal()\n",
    "    print(\"After nonlocal assignment: \", spam)\n",
    "    do_global()\n",
    "    print(\"After global assignment: \", spam)\n",
    "    \n",
    "scope_test()\n",
    "\n",
    "# Outside of functions the local scope references the same namespace as the **GLOBAL** scope\n",
    "print(\"In global scope:\", spam)"
   ]
  },
  {
   "cell_type": "code",
   "execution_count": 51,
   "metadata": {},
   "outputs": [
    {
     "name": "stdout",
     "output_type": "stream",
     "text": [
      "This is the First Assignment SPAM\n",
      "After local assignment (this is first func):  First Assignment\n",
      "After nonlocal assignment:  nonlocal spam\n",
      "No global re-assignment:  nonlocal spam\n",
      "In global scope: Original global spam\n"
     ]
    }
   ],
   "source": [
    "spam = \"Original global spam\"\n",
    "def scope_test():\n",
    "   \n",
    "    spam = \"First Assignment\"\n",
    "    \n",
    "    print(f\"This is the {spam} SPAM\")\n",
    "    # Local scope references the local names of the (textually) current function\n",
    "    # If not declared nonlocal, those variables are read-only\n",
    "    # an attempt to write such a variable will simply create a new local vairable in the innermost scope,\n",
    "        # leaving the identically named outer variable unchanged\n",
    "    def do_local():\n",
    "        spam = \"local spam\"\n",
    "\n",
    "    # To rebind variables found outside of the innermost scope, the *nonlocal* statement can be used\n",
    "    # The *nonlocal* statement indicates that particular variable live in an ENCLOSING SCOPE and\n",
    "        # should be rebound there\n",
    "    def do_nonlocal():\n",
    "        nonlocal spam\n",
    "        spam = \"nonlocal spam\" # non-local or enclosing\n",
    "        \n",
    "    def do_global():\n",
    "        global spam\n",
    "        spam = \"new global spam\"\n",
    "        \n",
    "#     spam = \"test spam, (enclosing)\"\n",
    "    do_local()\n",
    "    print(\"After local assignment (this is first func): \", spam)\n",
    "    do_nonlocal()\n",
    "    print(\"After nonlocal assignment: \", spam)\n",
    "#     do_global()\n",
    "    print(\"No global re-assignment: \", spam)\n",
    "    \n",
    "scope_test()\n",
    "\n",
    "# Outside of functions the local scope references the same namespace as the **GLOBAL** scope\n",
    "print(\"In global scope:\", spam)"
   ]
  },
  {
   "cell_type": "markdown",
   "metadata": {},
   "source": [
    "So basically different levels on how variables change within a local scope, enclosing, global, and then built-in."
   ]
  },
  {
   "cell_type": "markdown",
   "metadata": {},
   "source": [
    "# 9.3 A First Look at Classes"
   ]
  },
  {
   "cell_type": "markdown",
   "metadata": {},
   "source": [
    "## 9.3.2 Class Objects"
   ]
  },
  {
   "cell_type": "markdown",
   "metadata": {},
   "source": [
    "Class objects support two kinds of operations: attribute references and instantiation."
   ]
  },
  {
   "cell_type": "code",
   "execution_count": 1,
   "metadata": {},
   "outputs": [],
   "source": [
    "class MyClass:\n",
    "    \"\"\"A simple example class\"\"\"\n",
    "    \n",
    "    i = 12345\n",
    "    \n",
    "    def f(self):\n",
    "        return \"Hello World\""
   ]
  },
  {
   "cell_type": "code",
   "execution_count": 8,
   "metadata": {},
   "outputs": [
    {
     "name": "stdout",
     "output_type": "stream",
     "text": [
      "12345\n",
      "<function MyClass.f at 0x7fce0b3a9200>\n"
     ]
    }
   ],
   "source": [
    "print(MyClass.i)\n",
    "print(MyClass.f)"
   ]
  },
  {
   "cell_type": "markdown",
   "metadata": {},
   "source": [
    "MyClass.i and MyClass.f are valid attribute references"
   ]
  },
  {
   "cell_type": "code",
   "execution_count": 10,
   "metadata": {},
   "outputs": [
    {
     "data": {
      "text/plain": [
       "'A simple example class'"
      ]
     },
     "execution_count": 10,
     "metadata": {},
     "output_type": "execute_result"
    }
   ],
   "source": [
    "MyClass.__doc__ # retruns the doc string"
   ]
  },
  {
   "cell_type": "markdown",
   "metadata": {},
   "source": [
    "Class *instantiation*"
   ]
  },
  {
   "cell_type": "markdown",
   "metadata": {},
   "source": [
    "The instantiation operation ('calling' a class onject) creates an empty object."
   ]
  },
  {
   "cell_type": "code",
   "execution_count": 12,
   "metadata": {},
   "outputs": [],
   "source": [
    "x = MyClass() # create a new *instance* of the class and assigns this object to the local variable "
   ]
  },
  {
   "cell_type": "code",
   "execution_count": 13,
   "metadata": {},
   "outputs": [
    {
     "data": {
      "text/plain": [
       "(3.0, -4.5)"
      ]
     },
     "execution_count": 13,
     "metadata": {},
     "output_type": "execute_result"
    }
   ],
   "source": [
    "class Complex:\n",
    "    \n",
    "    def __init__(self, realpart, imagpart):\n",
    "        self.r = realpart\n",
    "        self.i = imagpart\n",
    "        \n",
    "x = Complex(3.0, -4.5)\n",
    "x.r, x.i"
   ]
  },
  {
   "cell_type": "markdown",
   "metadata": {},
   "source": [
    "## 9.3.5 Class and Instance Variables"
   ]
  },
  {
   "cell_type": "markdown",
   "metadata": {},
   "source": [
    "**Instance Variable** - are for data unique to each instance <br>\n",
    "**Class Variable** - are for attributes and methods shared by all instances of the class"
   ]
  },
  {
   "cell_type": "code",
   "execution_count": 14,
   "metadata": {},
   "outputs": [],
   "source": [
    "class Dog:\n",
    "    \n",
    "    kind = 'canine'         # Class variable shared by all instances\n",
    "    \n",
    "    def __init__(self, name):\n",
    "        self.name = name    # instance variable unique to each instance\n",
    "        \n",
    "d = Dog('Fido')\n",
    "e = Dog('Buddy')"
   ]
  },
  {
   "cell_type": "code",
   "execution_count": 15,
   "metadata": {},
   "outputs": [
    {
     "data": {
      "text/plain": [
       "'canine'"
      ]
     },
     "execution_count": 15,
     "metadata": {},
     "output_type": "execute_result"
    }
   ],
   "source": [
    "d.kind  # shared by all dogs"
   ]
  },
  {
   "cell_type": "code",
   "execution_count": 16,
   "metadata": {},
   "outputs": [
    {
     "data": {
      "text/plain": [
       "'canine'"
      ]
     },
     "execution_count": 16,
     "metadata": {},
     "output_type": "execute_result"
    }
   ],
   "source": [
    "e.kind  # shared by all dogs"
   ]
  },
  {
   "cell_type": "code",
   "execution_count": 19,
   "metadata": {},
   "outputs": [
    {
     "data": {
      "text/plain": [
       "'Fido'"
      ]
     },
     "execution_count": 19,
     "metadata": {},
     "output_type": "execute_result"
    }
   ],
   "source": [
    "d.name   # unique to d"
   ]
  },
  {
   "cell_type": "code",
   "execution_count": 20,
   "metadata": {},
   "outputs": [
    {
     "data": {
      "text/plain": [
       "'Buddy'"
      ]
     },
     "execution_count": 20,
     "metadata": {},
     "output_type": "execute_result"
    }
   ],
   "source": [
    "e.name  # unique to e"
   ]
  },
  {
   "cell_type": "markdown",
   "metadata": {},
   "source": [
    "Below is an example of how **NOT** to use a class variable"
   ]
  },
  {
   "cell_type": "code",
   "execution_count": 21,
   "metadata": {},
   "outputs": [],
   "source": [
    "#  Poor example of class variable because just a single list would be shared by all *Dog* instances\n",
    "class Dog:\n",
    "    \n",
    "    tricks = []     # mistaken use of a class variable\n",
    "    \n",
    "    def __init__(self, name):\n",
    "        self.name = name\n",
    "        \n",
    "    def add_trick(self, trick):\n",
    "        self.tricks.append(trick)"
   ]
  },
  {
   "cell_type": "code",
   "execution_count": 22,
   "metadata": {},
   "outputs": [],
   "source": [
    "d = Dog('Fido')\n",
    "e = Dog('Buddy')"
   ]
  },
  {
   "cell_type": "code",
   "execution_count": 23,
   "metadata": {},
   "outputs": [],
   "source": [
    "d.add_trick('roll over')\n",
    "e.add_trick('play dead')"
   ]
  },
  {
   "cell_type": "code",
   "execution_count": 25,
   "metadata": {},
   "outputs": [
    {
     "data": {
      "text/plain": [
       "['roll over', 'play dead']"
      ]
     },
     "execution_count": 25,
     "metadata": {},
     "output_type": "execute_result"
    }
   ],
   "source": [
    "d.tricks   # unexpectedly shared by all dogs"
   ]
  },
  {
   "cell_type": "code",
   "execution_count": 27,
   "metadata": {},
   "outputs": [
    {
     "data": {
      "text/plain": [
       "['roll over', 'play dead']"
      ]
     },
     "execution_count": 27,
     "metadata": {},
     "output_type": "execute_result"
    }
   ],
   "source": [
    "Dog.tricks    # As you can see it was added to the whole class. Not for the instance of that class"
   ]
  },
  {
   "cell_type": "code",
   "execution_count": 28,
   "metadata": {},
   "outputs": [],
   "source": [
    "# Correct design of calss.\n",
    "# Should use and instance variable instead\n",
    "\n",
    "class Dog:\n",
    "    \n",
    "    def __init__(self, name):\n",
    "        self.name = name\n",
    "        self.tricks = []       # creates a new empty list for each dog\n",
    "        \n",
    "    def add_trick(self, trick):\n",
    "        self.tricks.append(trick)"
   ]
  },
  {
   "cell_type": "code",
   "execution_count": 29,
   "metadata": {},
   "outputs": [],
   "source": [
    "d = Dog('Fido')\n",
    "e = Dog('Buddy')"
   ]
  },
  {
   "cell_type": "code",
   "execution_count": 30,
   "metadata": {},
   "outputs": [],
   "source": [
    "d.add_trick('roll over')\n",
    "e.add_trick('play dead')"
   ]
  },
  {
   "cell_type": "code",
   "execution_count": 31,
   "metadata": {},
   "outputs": [
    {
     "data": {
      "text/plain": [
       "['roll over']"
      ]
     },
     "execution_count": 31,
     "metadata": {},
     "output_type": "execute_result"
    }
   ],
   "source": [
    "d.tricks"
   ]
  },
  {
   "cell_type": "code",
   "execution_count": 32,
   "metadata": {},
   "outputs": [
    {
     "data": {
      "text/plain": [
       "['play dead']"
      ]
     },
     "execution_count": 32,
     "metadata": {},
     "output_type": "execute_result"
    }
   ],
   "source": [
    "e.tricks"
   ]
  },
  {
   "cell_type": "markdown",
   "metadata": {},
   "source": [
    "## 9.4 Random Remarks\n",
    "\n",
    "If the same attribute name occurs in both an instance and in a class, then attribute lookup prioritizes the instace:"
   ]
  },
  {
   "cell_type": "code",
   "execution_count": 38,
   "metadata": {},
   "outputs": [],
   "source": [
    "class Warehouse:      \n",
    "    purpose = 'storage'   # class attribute\n",
    "    region = 'west'       # class attribute"
   ]
  },
  {
   "cell_type": "code",
   "execution_count": 39,
   "metadata": {},
   "outputs": [
    {
     "name": "stdout",
     "output_type": "stream",
     "text": [
      "storage west\n"
     ]
    }
   ],
   "source": [
    "w1 = Warehouse()\n",
    "print(w1.purpose, w1.region)"
   ]
  },
  {
   "cell_type": "code",
   "execution_count": 40,
   "metadata": {},
   "outputs": [
    {
     "name": "stdout",
     "output_type": "stream",
     "text": [
      "storage east\n"
     ]
    }
   ],
   "source": [
    "w2 = Warehouse()\n",
    "w2.region = 'east'               # changing variable in the class Warehouse, class attribute was 'west' now 'east'\n",
    "print(w2.purpose, w2.region)     # the instance will be prioritized"
   ]
  },
  {
   "cell_type": "code",
   "execution_count": 43,
   "metadata": {},
   "outputs": [
    {
     "name": "stdout",
     "output_type": "stream",
     "text": [
      "Warehouse.region =  west\n",
      "w1.region =  west\n",
      "w2.region =  east\n"
     ]
    }
   ],
   "source": [
    "print('Warehouse.region = ',Warehouse.region)\n",
    "print('w1.region = ', w1.region)\n",
    "print('w2.region = ', w2.region)\n",
    "\n",
    "# The class attribute wasn't changed. Just the instance of that class"
   ]
  },
  {
   "cell_type": "code",
   "execution_count": 44,
   "metadata": {},
   "outputs": [],
   "source": [
    "# Function defined outside the class\n",
    "def f1(self, x, y):\n",
    "    return min(x, x+y)\n",
    "\n",
    "class C:\n",
    "    \n",
    "    f = f1\n",
    "    \n",
    "    def g(self):\n",
    "        return \"Hello World\"\n",
    "    \n",
    "    h = g"
   ]
  },
  {
   "cell_type": "code",
   "execution_count": 51,
   "metadata": {},
   "outputs": [
    {
     "data": {
      "text/plain": [
       "3"
      ]
     },
     "execution_count": 51,
     "metadata": {},
     "output_type": "execute_result"
    }
   ],
   "source": [
    "C.f(C,3,3)"
   ]
  },
  {
   "cell_type": "code",
   "execution_count": 52,
   "metadata": {},
   "outputs": [],
   "source": [
    "# Methods may call other methods by using method attributes of the *self* argument\n",
    "\n",
    "class Bag:\n",
    "    \n",
    "    def __init__(self):\n",
    "        self.data = []\n",
    "        \n",
    "    def add(self, x):\n",
    "        self.data.append(x)\n",
    "        \n",
    "    def addtwice(self, x):\n",
    "        self.add(x)   # calling the add() method of this class. use *self* argument\n",
    "        self.add(x)"
   ]
  },
  {
   "cell_type": "code",
   "execution_count": 62,
   "metadata": {},
   "outputs": [],
   "source": [
    "# Methods may reference global names in the same was as ordinary functions\n",
    "\n",
    "test = \"TESTING THE GLOBAL REFERENCE\"\n",
    "\n",
    "class MyTest:\n",
    "    \n",
    "    class_test = test\n",
    "    \n",
    "    def testing_test():\n",
    "        return test      # FYI: there is no good reason for using global data in a method"
   ]
  },
  {
   "cell_type": "code",
   "execution_count": 63,
   "metadata": {},
   "outputs": [
    {
     "data": {
      "text/plain": [
       "'TESTING THE GLOBAL REFERENCE'"
      ]
     },
     "execution_count": 63,
     "metadata": {},
     "output_type": "execute_result"
    }
   ],
   "source": [
    "MyTest.class_test"
   ]
  },
  {
   "cell_type": "code",
   "execution_count": 64,
   "metadata": {},
   "outputs": [
    {
     "data": {
      "text/plain": [
       "'TESTING THE GLOBAL REFERENCE'"
      ]
     },
     "execution_count": 64,
     "metadata": {},
     "output_type": "execute_result"
    }
   ],
   "source": [
    "MyTest.testing_test()"
   ]
  },
  {
   "cell_type": "markdown",
   "metadata": {},
   "source": [
    "#### A class is never used as a global scope."
   ]
  },
  {
   "cell_type": "markdown",
   "metadata": {},
   "source": [
    "## 9.5 Inheritance"
   ]
  },
  {
   "cell_type": "code",
   "execution_count": 70,
   "metadata": {},
   "outputs": [],
   "source": [
    "class BaseClass:\n",
    "    \n",
    "    base = \"base class\"\n",
    "    \n",
    "    def __str__():\n",
    "        print(\"This is the BaseClass\")"
   ]
  },
  {
   "cell_type": "code",
   "execution_count": 71,
   "metadata": {},
   "outputs": [],
   "source": [
    "class DerivedClass(BaseClass):\n",
    "    \n",
    "    derive = 'derived class'\n",
    "    \n",
    "    def __str__():\n",
    "        print(\"This is the DerivedClass\")"
   ]
  },
  {
   "cell_type": "code",
   "execution_count": 72,
   "metadata": {},
   "outputs": [
    {
     "data": {
      "text/plain": [
       "'base class'"
      ]
     },
     "execution_count": 72,
     "metadata": {},
     "output_type": "execute_result"
    }
   ],
   "source": [
    "BaseClass.base"
   ]
  },
  {
   "cell_type": "code",
   "execution_count": 73,
   "metadata": {},
   "outputs": [
    {
     "data": {
      "text/plain": [
       "'base class'"
      ]
     },
     "execution_count": 73,
     "metadata": {},
     "output_type": "execute_result"
    }
   ],
   "source": [
    "DerivedClass.base"
   ]
  },
  {
   "cell_type": "code",
   "execution_count": 74,
   "metadata": {},
   "outputs": [
    {
     "data": {
      "text/plain": [
       "'derived class'"
      ]
     },
     "execution_count": 74,
     "metadata": {},
     "output_type": "execute_result"
    }
   ],
   "source": [
    "DerivedClass.derive"
   ]
  },
  {
   "cell_type": "code",
   "execution_count": 83,
   "metadata": {},
   "outputs": [
    {
     "data": {
      "text/plain": [
       "True"
      ]
     },
     "execution_count": 83,
     "metadata": {},
     "output_type": "execute_result"
    }
   ],
   "source": [
    "issubclass(DerivedClass, BaseClass)"
   ]
  },
  {
   "cell_type": "code",
   "execution_count": 84,
   "metadata": {},
   "outputs": [
    {
     "data": {
      "text/plain": [
       "False"
      ]
     },
     "execution_count": 84,
     "metadata": {},
     "output_type": "execute_result"
    }
   ],
   "source": [
    "issubclass(BaseClass, DerivedClass)"
   ]
  },
  {
   "cell_type": "code",
   "execution_count": 85,
   "metadata": {},
   "outputs": [
    {
     "data": {
      "text/plain": [
       "False"
      ]
     },
     "execution_count": 85,
     "metadata": {},
     "output_type": "execute_result"
    }
   ],
   "source": [
    "isinstance(DerivedClass, BaseClass)"
   ]
  },
  {
   "cell_type": "code",
   "execution_count": 86,
   "metadata": {},
   "outputs": [
    {
     "data": {
      "text/plain": [
       "False"
      ]
     },
     "execution_count": 86,
     "metadata": {},
     "output_type": "execute_result"
    }
   ],
   "source": [
    "isinstance(BaseClass, DerivedClass)"
   ]
  },
  {
   "cell_type": "code",
   "execution_count": 87,
   "metadata": {},
   "outputs": [],
   "source": [
    "x = DerivedClass()"
   ]
  },
  {
   "cell_type": "code",
   "execution_count": 88,
   "metadata": {},
   "outputs": [
    {
     "data": {
      "text/plain": [
       "True"
      ]
     },
     "execution_count": 88,
     "metadata": {},
     "output_type": "execute_result"
    }
   ],
   "source": [
    "isinstance(x, DerivedClass)"
   ]
  },
  {
   "cell_type": "code",
   "execution_count": 89,
   "metadata": {},
   "outputs": [
    {
     "data": {
      "text/plain": [
       "True"
      ]
     },
     "execution_count": 89,
     "metadata": {},
     "output_type": "execute_result"
    }
   ],
   "source": [
    "isinstance(x, BaseClass)"
   ]
  },
  {
   "cell_type": "markdown",
   "metadata": {},
   "source": [
    "When the new class object is contructed the base class is remembered.<br>\n",
    "Basically if looking for an attribute it looks in the immediate class and then search continues through the base classes. <br>\n",
    "<br>\n",
    "<br>\n",
    "Pretty similar to **methods**.<br>\n",
    "From documentation:\n",
    "- \"Method reference are resolved as follows: the correspinding class attribute is searched, descending down the chain of base classes if necessary, and the method reference is valid if this yields a function object.\"<br>\n",
    "Derived classes may override methods of their base classes.\n",
    "- An overriding method in a derived class may in fact want to extend rather than simply replace the base class method of the same name"
   ]
  },
  {
   "cell_type": "code",
   "execution_count": 76,
   "metadata": {},
   "outputs": [],
   "source": [
    "#  An overriding method in a derived class may in fact want to extend \n",
    "# rather than simply replace the base class method of the same name\n",
    "\n",
    "# Example from Complete Python Bootcamp 3 by Jose Portilla (Udemy)\n",
    "\n",
    "class Animal():\n",
    "    \n",
    "    def __init__(self,name):\n",
    "        self.name = name\n",
    "        \n",
    "    def speak(self):\n",
    "        # Basically the base class has a method that you need to override to be able to use\n",
    "        raise NotImplementedError(\"Subclass must implement this abstract method\")"
   ]
  },
  {
   "cell_type": "markdown",
   "metadata": {},
   "source": [
    "## 9.5.1 Multiple Inheritance\n",
    "<br>\n",
    "Basically you can have multiple base classes in a derived class.<br>\n",
    "When searching through it starts with the derived class, then the first base class, second baseclass, etc."
   ]
  },
  {
   "cell_type": "markdown",
   "metadata": {},
   "source": [
    "## 9.6 Private Variables\n",
    "<br>\n",
    "\"Private\" instance variables that cannot be accessed except from inside an object don't exist in Python.\n",
    "<br>\n",
    "BUT!<br>\n",
    "A name that is prefixed with a __(double underscore) should be treated as a non-public part of the API"
   ]
  },
  {
   "cell_type": "code",
   "execution_count": 92,
   "metadata": {},
   "outputs": [],
   "source": [
    "# Name mangling helpful for letting sublcasses override methods without breaking instraclass method calls\n",
    "class Mapping:\n",
    "    def __init__(self, iterable):\n",
    "        self.items_list = []\n",
    "        self.__update(iterable)\n",
    "        \n",
    "    def update(self, iterable):\n",
    "        for item in iterable:\n",
    "            self.items_list.append(item)\n",
    "            \n",
    "    __update = update       # private copy of origianl update() method\n",
    "    \n",
    "class MappingSubclass(Mapping):\n",
    "    \n",
    "    def update(self, keys, values):\n",
    "        # provides new signature for update()\n",
    "        # but does not break __init__()\n",
    "        for item in zip(keys, values):\n",
    "            self.items_list.append(items)"
   ]
  },
  {
   "cell_type": "markdown",
   "metadata": {},
   "source": [
    "## 9.7 Odds and ends"
   ]
  },
  {
   "cell_type": "code",
   "execution_count": 93,
   "metadata": {},
   "outputs": [],
   "source": [
    "class Employee:\n",
    "    pass"
   ]
  },
  {
   "cell_type": "code",
   "execution_count": 94,
   "metadata": {},
   "outputs": [],
   "source": [
    "john = Employee()   # create an empty employee record\n",
    "\n",
    "# Fill the field of the record\n",
    "john.name = 'John Doe'\n",
    "john.dept = 'computer lab'\n",
    "john.salary = 1000"
   ]
  },
  {
   "cell_type": "code",
   "execution_count": 95,
   "metadata": {},
   "outputs": [
    {
     "data": {
      "text/plain": [
       "'computer lab'"
      ]
     },
     "execution_count": 95,
     "metadata": {},
     "output_type": "execute_result"
    }
   ],
   "source": [
    "john.dept"
   ]
  },
  {
   "cell_type": "code",
   "execution_count": 97,
   "metadata": {},
   "outputs": [
    {
     "data": {
      "text/plain": [
       "[__main__.Employee, object]"
      ]
     },
     "execution_count": 97,
     "metadata": {},
     "output_type": "execute_result"
    }
   ],
   "source": [
    "Employee.mro()"
   ]
  },
  {
   "cell_type": "code",
   "execution_count": null,
   "metadata": {},
   "outputs": [],
   "source": []
  }
 ],
 "metadata": {
  "kernelspec": {
   "display_name": "Python 3",
   "language": "python",
   "name": "python3"
  },
  "language_info": {
   "codemirror_mode": {
    "name": "ipython",
    "version": 3
   },
   "file_extension": ".py",
   "mimetype": "text/x-python",
   "name": "python",
   "nbconvert_exporter": "python",
   "pygments_lexer": "ipython3",
   "version": "3.7.6"
  }
 },
 "nbformat": 4,
 "nbformat_minor": 4
}
