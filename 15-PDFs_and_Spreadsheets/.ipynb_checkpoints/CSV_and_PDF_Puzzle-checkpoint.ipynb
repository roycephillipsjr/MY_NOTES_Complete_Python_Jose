{
 "cells": [
  {
   "cell_type": "code",
   "execution_count": 1,
   "metadata": {},
   "outputs": [],
   "source": [
    "import csv\n",
    "import PyPDF2\n",
    "import re\n",
    "import requests\n",
    "import bs4"
   ]
  },
  {
   "cell_type": "code",
   "execution_count": 8,
   "metadata": {},
   "outputs": [],
   "source": [
    "f = open('Exercise_Files/find_the_link.csv')"
   ]
  },
  {
   "cell_type": "code",
   "execution_count": 9,
   "metadata": {},
   "outputs": [],
   "source": [
    "csv_data = csv.reader(f)"
   ]
  },
  {
   "cell_type": "code",
   "execution_count": 10,
   "metadata": {},
   "outputs": [],
   "source": [
    "data_lines = list(csv_data)"
   ]
  },
  {
   "cell_type": "code",
   "execution_count": 18,
   "metadata": {},
   "outputs": [
    {
     "data": {
      "text/plain": [
       "'t'"
      ]
     },
     "execution_count": 18,
     "metadata": {},
     "output_type": "execute_result"
    }
   ],
   "source": [
    "data_lines[2][2]"
   ]
  },
  {
   "cell_type": "code",
   "execution_count": 13,
   "metadata": {},
   "outputs": [
    {
     "data": {
      "text/plain": [
       "66"
      ]
     },
     "execution_count": 13,
     "metadata": {},
     "output_type": "execute_result"
    }
   ],
   "source": [
    "len(data_lines)"
   ]
  },
  {
   "cell_type": "code",
   "execution_count": 41,
   "metadata": {},
   "outputs": [],
   "source": [
    "web_link = []\n",
    "num = 0\n",
    "for link in data_lines: \n",
    "    web_link.append(link[num])\n",
    "    num += 1\n",
    "#     print(f\"link[{num}][{num}]\",link[num])\n",
    "#     print(link)\n",
    "#     for num in range(0,66):\n",
    "#         print(num, num)\n",
    "#         print(link[num][num])\n"
   ]
  },
  {
   "cell_type": "code",
   "execution_count": 44,
   "metadata": {},
   "outputs": [],
   "source": [
    "web_link = ''.join(web_link)"
   ]
  },
  {
   "cell_type": "code",
   "execution_count": 45,
   "metadata": {},
   "outputs": [
    {
     "data": {
      "text/plain": [
       "'https://drive.google.com/open?id=1G6SEgg018UB4_4xsAJJ5TdzrhmXipr4Q'"
      ]
     },
     "execution_count": 45,
     "metadata": {},
     "output_type": "execute_result"
    }
   ],
   "source": [
    "web_link"
   ]
  },
  {
   "cell_type": "code",
   "execution_count": 46,
   "metadata": {},
   "outputs": [],
   "source": [
    "f.close()"
   ]
  },
  {
   "cell_type": "markdown",
   "metadata": {},
   "source": [
    "### Finding the Phone Number "
   ]
  },
  {
   "cell_type": "code",
   "execution_count": 52,
   "metadata": {},
   "outputs": [],
   "source": [
    "pdf = open('Exercise_Files/Find_the_Phone_Number.pdf', 'rb')"
   ]
  },
  {
   "cell_type": "code",
   "execution_count": 53,
   "metadata": {},
   "outputs": [],
   "source": [
    "pdf_reader = PyPDF2.PdfFileReader(pdf)"
   ]
  },
  {
   "cell_type": "code",
   "execution_count": 54,
   "metadata": {},
   "outputs": [
    {
     "data": {
      "text/plain": [
       "17"
      ]
     },
     "execution_count": 54,
     "metadata": {},
     "output_type": "execute_result"
    }
   ],
   "source": [
    "pdf_reader.numPages"
   ]
  },
  {
   "cell_type": "code",
   "execution_count": 55,
   "metadata": {},
   "outputs": [],
   "source": [
    "page_one = pdf_reader.getPage(0)"
   ]
  },
  {
   "cell_type": "code",
   "execution_count": 56,
   "metadata": {},
   "outputs": [],
   "source": [
    "page_one_text = page_one.extractText()"
   ]
  },
  {
   "cell_type": "code",
   "execution_count": 58,
   "metadata": {},
   "outputs": [
    {
     "data": {
      "text/plain": [
       "\"Business Deliverables\\n \\n \\n \\nStaff engagement touch base yet can I just chime in on that one draw a line in the sand \\nthis proposal is a win\\n-\\nwin situation which will cause a stellar paradigm shift, and \\nproduce a multi\\n-\\nfold increase in deliverables but \\nfuture\\n-\\nproof. I dont care if you got some \\ncopy, why you dont use officeipsumcom or something like that ? low\\n-\\nhanging fruit beef \\nup, and optimize for search or we need to leverage our synergies. We need to make the \\nnew version clean and sexy bells and whist\\nles, so meeting assassin, and execute . \\nBaseline the procedure and samepage your department push back yet strategic high\\n-\\nlevel 30,000 ft view powerPointless, but deliverables nor circle back. Paddle on both \\nsides conversational content win\\n-\\nwin\\n-\\nwin nor pig \\nin a python overcome key issues to \\nmeet key milestones. Personal development crisp ppt deep dive. Can we parallel path \\nblue sky and this proposal is a win\\n-\\nwin situation which will cause a stellar paradigm \\nshift, and produce a multi\\n-\\nfold increase in deliver\\nables. Where the metal hits the meat \\nhorsehead offer. Onward and upward, productize the deliverables and focus on the \\n\\nknowledge process outsourcing. Slow\\n-\\nwalk our commitmen\\nt synergize productive \\nmindfulness so high turnaround rate we need to harvest synergy effects. Who's the goto \\non this job with the way forward tbrand terrorists. Your work on this project has been \\nreally impactful. Pushback quantity shoot me an email so si\\nngle wringable neck hit the \\n\\n\\nPerformance review let's not solutionize this right now parkin\\ng lot it so win\\n-\\nwin\\n-\\nwin and \\nfast track gain traction. At the end of the day player\\n-\\ncoach nor we need to leverage our \\nsynergies. Can we take this offline vec we've bootstrapped the model nor feature creep.\\n \\n \\n \\nChurning anomalies. Face time. Are we in agreeanc\\ne 60% to 30% is a lot of persent no \\nscraps hit the floor, nor critical mass. Can you run this by clearance? hot johnny coming \\nthrough . This proposal is a win\\n-\\nwin situation which will cause a stellar paradigm shift, \\nand produce a multi\\n-\\nfold increase in del\\niverables we need to aspirationalise our \\nofferings so this vendor is incompetent , nor organic growth. Dog and pony show. Turn \\nthe ship. If you want to motivate these clowns, try less carrot and more stick imagineer, \\nbut product market fit and we need to c\\nrystallize a plan pro\\n-\\nsumer software for strategic \\nfit programmatically.\\n \\n \\n \\n\""
      ]
     },
     "execution_count": 58,
     "metadata": {},
     "output_type": "execute_result"
    }
   ],
   "source": [
    "page_one_text"
   ]
  },
  {
   "cell_type": "markdown",
   "metadata": {},
   "source": [
    "Now let's find that number!!"
   ]
  },
  {
   "cell_type": "code",
   "execution_count": 59,
   "metadata": {},
   "outputs": [],
   "source": [
    "pdf_text = []\n",
    "\n",
    "for num in range(pdf_reader.numPages):\n",
    "    \n",
    "    page = pdf_reader.getPage(num)\n",
    "    \n",
    "    pdf_text.append(page.extractText())"
   ]
  },
  {
   "cell_type": "code",
   "execution_count": 69,
   "metadata": {},
   "outputs": [
    {
     "data": {
      "text/plain": [
       "\"Business Deliverables\\n \\n \\n \\nStaff engagement touch base yet can I just chime in on that one draw a line in the sand \\nthis proposal is a win\\n-\\nwin situation which will cause a stellar paradigm shift, and \\nproduce a multi\\n-\\nfold increase in deliverables but \\nfuture\\n-\\nproof. I dont care if you got some \\ncopy, why you dont use officeipsumcom or something like that ? low\\n-\\nhanging fruit beef \\nup, and optimize for search or we need to leverage our synergies. We need to make the \\nnew version clean and sexy bells and whist\\nles, so meeting assassin, and execute . \\nBaseline the procedure and samepage your department push back yet strategic high\\n-\\nlevel 30,000 ft view powerPointless, but deliverables nor circle back. Paddle on both \\nsides conversational content win\\n-\\nwin\\n-\\nwin nor pig \\nin a python overcome key issues to \\nmeet key milestones. Personal development crisp ppt deep dive. Can we parallel path \\nblue sky and this proposal is a win\\n-\\nwin situation which will cause a stellar paradigm \\nshift, and produce a multi\\n-\\nfold increase in deliver\\nables. Where the metal hits the meat \\nhorsehead offer. Onward and upward, productize the deliverables and focus on the \\n\\nknowledge process outsourcing. Slow\\n-\\nwalk our commitmen\\nt synergize productive \\nmindfulness so high turnaround rate we need to harvest synergy effects. Who's the goto \\non this job with the way forward tbrand terrorists. Your work on this project has been \\nreally impactful. Pushback quantity shoot me an email so si\\nngle wringable neck hit the \\n\\n\\nPerformance review let's not solutionize this right now parkin\\ng lot it so win\\n-\\nwin\\n-\\nwin and \\nfast track gain traction. At the end of the day player\\n-\\ncoach nor we need to leverage our \\nsynergies. Can we take this offline vec we've bootstrapped the model nor feature creep.\\n \\n \\n \\nChurning anomalies. Face time. Are we in agreeanc\\ne 60% to 30% is a lot of persent no \\nscraps hit the floor, nor critical mass. Can you run this by clearance? hot johnny coming \\nthrough . This proposal is a win\\n-\\nwin situation which will cause a stellar paradigm shift, \\nand produce a multi\\n-\\nfold increase in del\\niverables we need to aspirationalise our \\nofferings so this vendor is incompetent , nor organic growth. Dog and pony show. Turn \\nthe ship. If you want to motivate these clowns, try less carrot and more stick imagineer, \\nbut product market fit and we need to c\\nrystallize a plan pro\\n-\\nsumer software for strategic \\nfit programmatically.\\n \\n \\n \\n\""
      ]
     },
     "execution_count": 69,
     "metadata": {},
     "output_type": "execute_result"
    }
   ],
   "source": [
    "pdf_text[0]"
   ]
  },
  {
   "cell_type": "code",
   "execution_count": 93,
   "metadata": {},
   "outputs": [
    {
     "name": "stdout",
     "output_type": "stream",
     "text": [
      "505.503.4455\n"
     ]
    }
   ],
   "source": [
    "pattern = r'(\\d{3}).(\\d{3}).(\\d{4})'\n",
    "# pattern = re.compile(r'(\\d{3}) (\\d{3}) (\\d{4})')\n",
    "# pattern = re.compile(r'505 503 4455')\n",
    "# pattern = r'505 503 4455'\n",
    "# re.search(r'\\d\\d\\d-\\d\\d\\d-\\d\\d\\d\\d',pdf_text)\n",
    "for text in pdf_text:\n",
    "#     print(text)\n",
    "    number = re.search(pattern,text)\n",
    "    \n",
    "    if number:\n",
    "        print(number.group())\n",
    "    \n"
   ]
  },
  {
   "cell_type": "code",
   "execution_count": 94,
   "metadata": {},
   "outputs": [],
   "source": [
    "pdf.close()"
   ]
  },
  {
   "cell_type": "markdown",
   "metadata": {},
   "source": [
    "# Following Along Video\n"
   ]
  },
  {
   "cell_type": "code",
   "execution_count": 95,
   "metadata": {},
   "outputs": [],
   "source": [
    "data = open('Exercise_Files/find_the_link.csv', encoding='utf-8')\n",
    "csv_data = csv.reader(data)"
   ]
  },
  {
   "cell_type": "code",
   "execution_count": 96,
   "metadata": {},
   "outputs": [],
   "source": [
    "data_lines = list(csv_data)"
   ]
  },
  {
   "cell_type": "code",
   "execution_count": 99,
   "metadata": {},
   "outputs": [
    {
     "name": "stdout",
     "output_type": "stream",
     "text": [
      "[['h', '53', '24', '46', '4', '11', '3', '35', '17', '52', '9', '60', '26', '60', '72', '39', '11', '80', '86', '66', '59', '9', '41', '33', '11', '42', '69', '74', '91', '61', '5', '69', '17', '17', '78', '6', '51', '54', '54', '94', '47', '37', '0', '16', '71', '6', '83', '7', '6', '38', '61', '18', '68', '15', '2', '81', '49', '5', '17', '21', '36', '63', '38', '24', '3', '99'], ['85', 't', '31', '54', '60', '22', '77', '39', '93', '38', '31', '16', '29', '27', '8', '35', '0', '54', '84', '21', '47', '37', '66', '83', '26', '22', '68', '25', '44', '81', '27', '68', '17', '63', '13', '99', '38', '43', '87', '83', '73', '88', '67', '5', '12', '10', '7', '58', '64', '56', '53', '88', '96', '20', '7', '85', '94', '23', '14', '79', '24', '27', '90', '40', '27', '8']]\n"
     ]
    }
   ],
   "source": [
    "print(data_lines[:2])"
   ]
  },
  {
   "cell_type": "code",
   "execution_count": 100,
   "metadata": {},
   "outputs": [],
   "source": [
    "link_str = ''\n",
    "\n",
    "for row_num,data in enumerate(data_lines):\n",
    "    \n",
    "    link_str += data[row_num]"
   ]
  },
  {
   "cell_type": "code",
   "execution_count": 101,
   "metadata": {},
   "outputs": [
    {
     "data": {
      "text/plain": [
       "'https://drive.google.com/open?id=1G6SEgg018UB4_4xsAJJ5TdzrhmXipr4Q'"
      ]
     },
     "execution_count": 101,
     "metadata": {},
     "output_type": "execute_result"
    }
   ],
   "source": [
    "link_str"
   ]
  },
  {
   "cell_type": "markdown",
   "metadata": {},
   "source": [
    "#### PDF"
   ]
  },
  {
   "cell_type": "code",
   "execution_count": 102,
   "metadata": {},
   "outputs": [],
   "source": [
    "f = open('Exercise_Files/Find_the_Phone_Number.pdf', 'rb')"
   ]
  },
  {
   "cell_type": "code",
   "execution_count": 103,
   "metadata": {},
   "outputs": [],
   "source": [
    "pdf = PyPDF2.PdfFileReader(f)"
   ]
  },
  {
   "cell_type": "code",
   "execution_count": 104,
   "metadata": {},
   "outputs": [
    {
     "data": {
      "text/plain": [
       "17"
      ]
     },
     "execution_count": 104,
     "metadata": {},
     "output_type": "execute_result"
    }
   ],
   "source": [
    "pdf.numPages"
   ]
  },
  {
   "cell_type": "code",
   "execution_count": 105,
   "metadata": {},
   "outputs": [],
   "source": [
    "pattern = r'\\d{3}'"
   ]
  },
  {
   "cell_type": "code",
   "execution_count": 107,
   "metadata": {},
   "outputs": [],
   "source": [
    "all_text = ''\n",
    "\n",
    "for n in range(pdf.numPages):\n",
    "    \n",
    "    page = pdf.getPage(n)\n",
    "    \n",
    "    page_text = page.extractText()\n",
    "    \n",
    "    all_text = all_text+' '+page_text"
   ]
  },
  {
   "cell_type": "code",
   "execution_count": 110,
   "metadata": {},
   "outputs": [
    {
     "data": {
      "text/plain": [
       "<re.Match object; span=(655, 658), match='000'>"
      ]
     },
     "execution_count": 110,
     "metadata": {},
     "output_type": "execute_result"
    }
   ],
   "source": [
    "re.search(pattern,all_text)"
   ]
  },
  {
   "cell_type": "code",
   "execution_count": 111,
   "metadata": {},
   "outputs": [
    {
     "data": {
      "text/plain": [
       "['000', '000', '000', '505', '503', '445']"
      ]
     },
     "execution_count": 111,
     "metadata": {},
     "output_type": "execute_result"
    }
   ],
   "source": [
    "re.findall(pattern,all_text)"
   ]
  },
  {
   "cell_type": "code",
   "execution_count": 112,
   "metadata": {},
   "outputs": [
    {
     "name": "stdout",
     "output_type": "stream",
     "text": [
      "<re.Match object; span=(655, 658), match='000'>\n",
      "<re.Match object; span=(17805, 17808), match='000'>\n",
      "<re.Match object; span=(35059, 35062), match='000'>\n",
      "<re.Match object; span=(41808, 41811), match='505'>\n",
      "<re.Match object; span=(41812, 41815), match='503'>\n",
      "<re.Match object; span=(41816, 41819), match='445'>\n"
     ]
    }
   ],
   "source": [
    "for match in re.finditer(pattern,all_text):\n",
    "    \n",
    "    print(match)"
   ]
  },
  {
   "cell_type": "code",
   "execution_count": 114,
   "metadata": {},
   "outputs": [
    {
     "data": {
      "text/plain": [
       "'or me? His \\nphone number is 505.503.4455. So hor'"
      ]
     },
     "execution_count": 114,
     "metadata": {},
     "output_type": "execute_result"
    }
   ],
   "source": [
    "all_text[41780:41808+20]"
   ]
  },
  {
   "cell_type": "code",
   "execution_count": 120,
   "metadata": {},
   "outputs": [],
   "source": [
    "pattern = r'\\d{3}.\\d{3}.\\d{4}'"
   ]
  },
  {
   "cell_type": "code",
   "execution_count": 121,
   "metadata": {},
   "outputs": [],
   "source": [
    "all_text = ''\n",
    "\n",
    "for n in range(pdf.numPages):\n",
    "    \n",
    "    page = pdf.getPage(n)\n",
    "    \n",
    "    page_text = page.extractText()\n",
    "    \n",
    "    all_text = all_text+' '+page_text"
   ]
  },
  {
   "cell_type": "code",
   "execution_count": 122,
   "metadata": {},
   "outputs": [
    {
     "data": {
      "text/plain": [
       "<re.Match object; span=(41808, 41820), match='505.503.4455'>"
      ]
     },
     "execution_count": 122,
     "metadata": {},
     "output_type": "execute_result"
    }
   ],
   "source": [
    "re.search(pattern,all_text)"
   ]
  },
  {
   "cell_type": "code",
   "execution_count": 123,
   "metadata": {},
   "outputs": [
    {
     "data": {
      "text/plain": [
       "['505.503.4455']"
      ]
     },
     "execution_count": 123,
     "metadata": {},
     "output_type": "execute_result"
    }
   ],
   "source": [
    "re.findall(pattern,all_text)"
   ]
  }
 ],
 "metadata": {
  "kernelspec": {
   "display_name": "Python 3",
   "language": "python",
   "name": "python3"
  },
  "language_info": {
   "codemirror_mode": {
    "name": "ipython",
    "version": 3
   },
   "file_extension": ".py",
   "mimetype": "text/x-python",
   "name": "python",
   "nbconvert_exporter": "python",
   "pygments_lexer": "ipython3",
   "version": "3.7.6"
  }
 },
 "nbformat": 4,
 "nbformat_minor": 4
}
